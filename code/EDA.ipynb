{
 "cells": [
  {
   "cell_type": "code",
   "execution_count": 1,
   "metadata": {},
   "outputs": [
    {
     "name": "stdout",
     "output_type": "stream",
     "text": [
      "Collecting sweetviz\n",
      "  Downloading sweetviz-2.1.4-py3-none-any.whl (15.1 MB)\n",
      "     --------------------------------------- 15.1/15.1 MB 23.4 MB/s eta 0:00:00\n",
      "Requirement already satisfied: matplotlib>=3.1.3 in c:\\users\\shoni\\appdata\\local\\programs\\python\\python310\\lib\\site-packages (from sweetviz) (3.7.1)\n",
      "Requirement already satisfied: scipy>=1.3.2 in c:\\users\\shoni\\appdata\\local\\programs\\python\\python310\\lib\\site-packages (from sweetviz) (1.10.1)\n",
      "Requirement already satisfied: tqdm>=4.43.0 in c:\\users\\shoni\\appdata\\local\\programs\\python\\python310\\lib\\site-packages (from sweetviz) (4.65.0)\n",
      "Requirement already satisfied: jinja2>=2.11.1 in c:\\users\\shoni\\appdata\\local\\programs\\python\\python310\\lib\\site-packages (from sweetviz) (3.1.2)\n",
      "Requirement already satisfied: importlib-resources>=1.2.0 in c:\\users\\shoni\\appdata\\local\\programs\\python\\python310\\lib\\site-packages (from sweetviz) (5.12.0)\n",
      "Requirement already satisfied: numpy>=1.16.0 in c:\\users\\shoni\\appdata\\local\\programs\\python\\python310\\lib\\site-packages (from sweetviz) (1.23.5)\n",
      "Requirement already satisfied: pandas!=1.0.0,!=1.0.1,!=1.0.2,>=0.25.3 in c:\\users\\shoni\\appdata\\local\\programs\\python\\python310\\lib\\site-packages (from sweetviz) (2.0.1)\n",
      "Requirement already satisfied: MarkupSafe>=2.0 in c:\\users\\shoni\\appdata\\local\\programs\\python\\python310\\lib\\site-packages (from jinja2>=2.11.1->sweetviz) (2.1.2)\n",
      "Requirement already satisfied: cycler>=0.10 in c:\\users\\shoni\\appdata\\local\\programs\\python\\python310\\lib\\site-packages (from matplotlib>=3.1.3->sweetviz) (0.11.0)\n",
      "Requirement already satisfied: python-dateutil>=2.7 in c:\\users\\shoni\\appdata\\local\\programs\\python\\python310\\lib\\site-packages (from matplotlib>=3.1.3->sweetviz) (2.8.2)\n",
      "Requirement already satisfied: fonttools>=4.22.0 in c:\\users\\shoni\\appdata\\local\\programs\\python\\python310\\lib\\site-packages (from matplotlib>=3.1.3->sweetviz) (4.39.3)\n",
      "Requirement already satisfied: pyparsing>=2.3.1 in c:\\users\\shoni\\appdata\\local\\programs\\python\\python310\\lib\\site-packages (from matplotlib>=3.1.3->sweetviz) (3.0.9)\n",
      "Requirement already satisfied: pillow>=6.2.0 in c:\\users\\shoni\\appdata\\local\\programs\\python\\python310\\lib\\site-packages (from matplotlib>=3.1.3->sweetviz) (9.5.0)\n",
      "Requirement already satisfied: packaging>=20.0 in c:\\users\\shoni\\appdata\\local\\programs\\python\\python310\\lib\\site-packages (from matplotlib>=3.1.3->sweetviz) (23.1)\n",
      "Requirement already satisfied: kiwisolver>=1.0.1 in c:\\users\\shoni\\appdata\\local\\programs\\python\\python310\\lib\\site-packages (from matplotlib>=3.1.3->sweetviz) (1.4.4)\n",
      "Requirement already satisfied: contourpy>=1.0.1 in c:\\users\\shoni\\appdata\\local\\programs\\python\\python310\\lib\\site-packages (from matplotlib>=3.1.3->sweetviz) (1.0.7)\n",
      "Requirement already satisfied: pytz>=2020.1 in c:\\users\\shoni\\appdata\\local\\programs\\python\\python310\\lib\\site-packages (from pandas!=1.0.0,!=1.0.1,!=1.0.2,>=0.25.3->sweetviz) (2023.3)\n",
      "Requirement already satisfied: tzdata>=2022.1 in c:\\users\\shoni\\appdata\\local\\programs\\python\\python310\\lib\\site-packages (from pandas!=1.0.0,!=1.0.1,!=1.0.2,>=0.25.3->sweetviz) (2023.3)\n",
      "Requirement already satisfied: colorama in c:\\users\\shoni\\appdata\\local\\programs\\python\\python310\\lib\\site-packages (from tqdm>=4.43.0->sweetviz) (0.4.6)\n",
      "Requirement already satisfied: six>=1.5 in c:\\users\\shoni\\appdata\\local\\programs\\python\\python310\\lib\\site-packages (from python-dateutil>=2.7->matplotlib>=3.1.3->sweetviz) (1.16.0)\n",
      "Installing collected packages: sweetviz\n",
      "Successfully installed sweetviz-2.1.4\n",
      "Note: you may need to restart the kernel to use updated packages.\n"
     ]
    },
    {
     "name": "stderr",
     "output_type": "stream",
     "text": [
      "\n",
      "[notice] A new release of pip available: 22.3.1 -> 23.1.2\n",
      "[notice] To update, run: python.exe -m pip install --upgrade pip\n"
     ]
    }
   ],
   "source": [
    "pip install sweetviz"
   ]
  },
  {
   "cell_type": "code",
   "execution_count": 2,
   "metadata": {},
   "outputs": [],
   "source": [
    "import sweetviz as sv\n",
    "import pandas as pd"
   ]
  },
  {
   "cell_type": "code",
   "execution_count": 3,
   "metadata": {},
   "outputs": [
    {
     "name": "stderr",
     "output_type": "stream",
     "text": [
      "C:\\Users\\shoni\\AppData\\Local\\Temp\\ipykernel_8544\\4289677141.py:1: DtypeWarning: Columns (78) have mixed types. Specify dtype option on import or set low_memory=False.\n",
      "  data = pd.read_csv('../data/pre_/data.csv')\n"
     ]
    }
   ],
   "source": [
    "data = pd.read_csv('../data/pre_/data.csv')"
   ]
  },
  {
   "cell_type": "code",
   "execution_count": 4,
   "metadata": {},
   "outputs": [
    {
     "ename": "AttributeError",
     "evalue": "'DataFrame' object has no attribute 'iteritems'",
     "output_type": "error",
     "traceback": [
      "\u001b[1;31m---------------------------------------------------------------------------\u001b[0m",
      "\u001b[1;31mAttributeError\u001b[0m                            Traceback (most recent call last)",
      "Cell \u001b[1;32mIn[4], line 1\u001b[0m\n\u001b[1;32m----> 1\u001b[0m report \u001b[39m=\u001b[39m sv\u001b[39m.\u001b[39;49manalyze(data)\n\u001b[0;32m      2\u001b[0m report\u001b[39m.\u001b[39mshow_html(\u001b[39m'\u001b[39m\u001b[39mdirectory/filename.html\u001b[39m\u001b[39m'\u001b[39m)\n",
      "File \u001b[1;32mc:\\Users\\shoni\\AppData\\Local\\Programs\\Python\\Python310\\lib\\site-packages\\sweetviz\\sv_public.py:12\u001b[0m, in \u001b[0;36manalyze\u001b[1;34m(source, target_feat, feat_cfg, pairwise_analysis)\u001b[0m\n\u001b[0;32m      8\u001b[0m \u001b[39mdef\u001b[39;00m \u001b[39manalyze\u001b[39m(source: Union[pd\u001b[39m.\u001b[39mDataFrame, Tuple[pd\u001b[39m.\u001b[39mDataFrame, \u001b[39mstr\u001b[39m]],\n\u001b[0;32m      9\u001b[0m             target_feat: \u001b[39mstr\u001b[39m \u001b[39m=\u001b[39m \u001b[39mNone\u001b[39;00m,\n\u001b[0;32m     10\u001b[0m             feat_cfg: FeatureConfig \u001b[39m=\u001b[39m \u001b[39mNone\u001b[39;00m,\n\u001b[0;32m     11\u001b[0m             pairwise_analysis: \u001b[39mstr\u001b[39m \u001b[39m=\u001b[39m \u001b[39m'\u001b[39m\u001b[39mauto\u001b[39m\u001b[39m'\u001b[39m):\n\u001b[1;32m---> 12\u001b[0m     report \u001b[39m=\u001b[39m sweetviz\u001b[39m.\u001b[39;49mDataframeReport(source, target_feat, \u001b[39mNone\u001b[39;49;00m,\n\u001b[0;32m     13\u001b[0m                                       pairwise_analysis, feat_cfg)\n\u001b[0;32m     14\u001b[0m     \u001b[39mreturn\u001b[39;00m report\n",
      "File \u001b[1;32mc:\\Users\\shoni\\AppData\\Local\\Programs\\Python\\Python310\\lib\\site-packages\\sweetviz\\dataframe_report.py:74\u001b[0m, in \u001b[0;36mDataframeReport.__init__\u001b[1;34m(self, source, target_feature_name, compare, pairwise_analysis, fc)\u001b[0m\n\u001b[0;32m     71\u001b[0m     \u001b[39mif\u001b[39;00m target_feature_name \u001b[39m==\u001b[39m \u001b[39m'\u001b[39m\u001b[39mindex\u001b[39m\u001b[39m'\u001b[39m:\n\u001b[0;32m     72\u001b[0m         target_feature_name \u001b[39m=\u001b[39m \u001b[39m'\u001b[39m\u001b[39mdf_index\u001b[39m\u001b[39m'\u001b[39m\n\u001b[1;32m---> 74\u001b[0m all_source_names \u001b[39m=\u001b[39m [cur_name \u001b[39mfor\u001b[39;00m cur_name, cur_series \u001b[39min\u001b[39;00m source_df\u001b[39m.\u001b[39;49miteritems()]\n\u001b[0;32m     75\u001b[0m \u001b[39mif\u001b[39;00m compare \u001b[39mis\u001b[39;00m \u001b[39mNone\u001b[39;00m:\n\u001b[0;32m     76\u001b[0m     compare_df \u001b[39m=\u001b[39m \u001b[39mNone\u001b[39;00m\n",
      "File \u001b[1;32mc:\\Users\\shoni\\AppData\\Local\\Programs\\Python\\Python310\\lib\\site-packages\\pandas\\core\\generic.py:5989\u001b[0m, in \u001b[0;36mNDFrame.__getattr__\u001b[1;34m(self, name)\u001b[0m\n\u001b[0;32m   5982\u001b[0m \u001b[39mif\u001b[39;00m (\n\u001b[0;32m   5983\u001b[0m     name \u001b[39mnot\u001b[39;00m \u001b[39min\u001b[39;00m \u001b[39mself\u001b[39m\u001b[39m.\u001b[39m_internal_names_set\n\u001b[0;32m   5984\u001b[0m     \u001b[39mand\u001b[39;00m name \u001b[39mnot\u001b[39;00m \u001b[39min\u001b[39;00m \u001b[39mself\u001b[39m\u001b[39m.\u001b[39m_metadata\n\u001b[0;32m   5985\u001b[0m     \u001b[39mand\u001b[39;00m name \u001b[39mnot\u001b[39;00m \u001b[39min\u001b[39;00m \u001b[39mself\u001b[39m\u001b[39m.\u001b[39m_accessors\n\u001b[0;32m   5986\u001b[0m     \u001b[39mand\u001b[39;00m \u001b[39mself\u001b[39m\u001b[39m.\u001b[39m_info_axis\u001b[39m.\u001b[39m_can_hold_identifiers_and_holds_name(name)\n\u001b[0;32m   5987\u001b[0m ):\n\u001b[0;32m   5988\u001b[0m     \u001b[39mreturn\u001b[39;00m \u001b[39mself\u001b[39m[name]\n\u001b[1;32m-> 5989\u001b[0m \u001b[39mreturn\u001b[39;00m \u001b[39mobject\u001b[39;49m\u001b[39m.\u001b[39;49m\u001b[39m__getattribute__\u001b[39;49m(\u001b[39mself\u001b[39;49m, name)\n",
      "\u001b[1;31mAttributeError\u001b[0m: 'DataFrame' object has no attribute 'iteritems'"
     ]
    }
   ],
   "source": [
    "report = sv.analyze(data)\n",
    "report.show_html('directory/filename.html')"
   ]
  }
 ],
 "metadata": {
  "kernelspec": {
   "display_name": "Python 3",
   "language": "python",
   "name": "python3"
  },
  "language_info": {
   "codemirror_mode": {
    "name": "ipython",
    "version": 3
   },
   "file_extension": ".py",
   "mimetype": "text/x-python",
   "name": "python",
   "nbconvert_exporter": "python",
   "pygments_lexer": "ipython3",
   "version": "3.10.9"
  },
  "orig_nbformat": 4
 },
 "nbformat": 4,
 "nbformat_minor": 2
}
