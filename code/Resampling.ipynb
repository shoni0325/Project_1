{
 "cells": [
  {
   "cell_type": "code",
   "execution_count": 1,
   "metadata": {},
   "outputs": [],
   "source": [
    "import pandas as pd"
   ]
  },
  {
   "cell_type": "code",
   "execution_count": 33,
   "metadata": {},
   "outputs": [],
   "source": [
    "df = pd.read_csv('../data/완성data/unsampled_data.csv')"
   ]
  },
  {
   "cell_type": "code",
   "execution_count": 34,
   "metadata": {},
   "outputs": [
    {
     "name": "stdout",
     "output_type": "stream",
     "text": [
      "12384\n",
      "0    11467\n",
      "1      917\n",
      "Name: 벤처캐피털(투자조합포함) 투자 경험여부, dtype: int64\n"
     ]
    }
   ],
   "source": [
    "print(df['벤처캐피털(투자조합포함) 투자 경험여부'].value_counts().sum())\n",
    "print(df['벤처캐피털(투자조합포함) 투자 경험여부'].value_counts())"
   ]
  },
  {
   "attachments": {},
   "cell_type": "markdown",
   "metadata": {},
   "source": [
    "## OverSampling"
   ]
  },
  {
   "cell_type": "code",
   "execution_count": 35,
   "metadata": {},
   "outputs": [
    {
     "data": {
      "text/plain": [
       "4"
      ]
     },
     "execution_count": 35,
     "metadata": {},
     "output_type": "execute_result"
    }
   ],
   "source": [
    "# 컬럼 위치 확인\n",
    "column_name = '가중치'\n",
    "column_index = df.columns.tolist().index(column_name)\n",
    "column_index"
   ]
  },
  {
   "cell_type": "code",
   "execution_count": 36,
   "metadata": {},
   "outputs": [
    {
     "data": {
      "text/plain": [
       "64"
      ]
     },
     "execution_count": 36,
     "metadata": {},
     "output_type": "execute_result"
    }
   ],
   "source": [
    "# 컬럼 위치 확인\n",
    "column_name = '경영상 애로사항(개수)'\n",
    "column_index = df.columns.tolist().index(column_name)\n",
    "column_index"
   ]
  },
  {
   "cell_type": "code",
   "execution_count": 37,
   "metadata": {},
   "outputs": [],
   "source": [
    "# 분석할 데이터 설정\n",
    "data = df.iloc[:,5:66]"
   ]
  },
  {
   "cell_type": "code",
   "execution_count": 38,
   "metadata": {},
   "outputs": [
    {
     "name": "stdout",
     "output_type": "stream",
     "text": [
      "(12384, 60)\n"
     ]
    }
   ],
   "source": [
    "# 원본 데이터 (12384 개)\n",
    "from imblearn.over_sampling import SMOTE\n",
    "\n",
    "X = data.iloc[:, :-1]\n",
    "y = data['벤처캐피털(투자조합포함) 투자 경험여부']\n",
    "print(X.shape)"
   ]
  },
  {
   "cell_type": "code",
   "execution_count": 39,
   "metadata": {},
   "outputs": [
    {
     "name": "stdout",
     "output_type": "stream",
     "text": [
      "(17200, 60)\n"
     ]
    }
   ],
   "source": [
    "# SMOTE\n",
    "\n",
    "smote = SMOTE(sampling_strategy=0.5, random_state=0)\n",
    "X_resampled, y_resampled = smote.fit_resample(X, y)\n",
    "print(X_resampled.shape)"
   ]
  },
  {
   "cell_type": "code",
   "execution_count": 40,
   "metadata": {},
   "outputs": [],
   "source": [
    "# 오버샘플링된 데이터를 데이터프레임으로 변환\n",
    "df_resampled = pd.DataFrame(X_resampled, columns=X.columns)\n",
    "df_resampled['벤처캐피털(투자조합포함) 투자 경험여부'] = y_resampled\n",
    "\n",
    "# 데이터프레임 저장\n",
    "# df_resampled.to_csv('oversampled_data.csv', index=False)"
   ]
  }
 ],
 "metadata": {
  "kernelspec": {
   "display_name": "Python 3",
   "language": "python",
   "name": "python3"
  },
  "language_info": {
   "codemirror_mode": {
    "name": "ipython",
    "version": 3
   },
   "file_extension": ".py",
   "mimetype": "text/x-python",
   "name": "python",
   "nbconvert_exporter": "python",
   "pygments_lexer": "ipython3",
   "version": "3.10.9"
  },
  "orig_nbformat": 4
 },
 "nbformat": 4,
 "nbformat_minor": 2
}
