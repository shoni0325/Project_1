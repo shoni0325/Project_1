{
 "cells": [
  {
   "cell_type": "code",
   "execution_count": 2,
   "metadata": {},
   "outputs": [],
   "source": [
    "import pandas as pd\n",
    "import warnings\n",
    "warnings.filterwarnings('ignore')\n",
    "import matplotlib.pyplot as plt\n",
    "plt.rc('font', family='Malgun Gothic')\n",
    "plt.rcParams['axes.unicode_minus'] = False"
   ]
  },
  {
   "cell_type": "code",
   "execution_count": 3,
   "metadata": {},
   "outputs": [],
   "source": [
    "df = pd.read_csv('../data/완성data/벤처_data.csv')"
   ]
  },
  {
   "cell_type": "code",
   "execution_count": 4,
   "metadata": {},
   "outputs": [],
   "source": [
    "df['이자보상배율'] = df['이자보상배율'] / 100"
   ]
  },
  {
   "cell_type": "code",
   "execution_count": 5,
   "metadata": {},
   "outputs": [],
   "source": [
    "df['총자산회전율'] = df['총자산회전율'] / 100"
   ]
  },
  {
   "cell_type": "code",
   "execution_count": 11,
   "metadata": {},
   "outputs": [
    {
     "data": {
      "text/html": [
       "<div>\n",
       "<style scoped>\n",
       "    .dataframe tbody tr th:only-of-type {\n",
       "        vertical-align: middle;\n",
       "    }\n",
       "\n",
       "    .dataframe tbody tr th {\n",
       "        vertical-align: top;\n",
       "    }\n",
       "\n",
       "    .dataframe thead th {\n",
       "        text-align: right;\n",
       "    }\n",
       "</style>\n",
       "<table border=\"1\" class=\"dataframe\">\n",
       "  <thead>\n",
       "    <tr style=\"text-align: right;\">\n",
       "      <th></th>\n",
       "      <th>엔젤투자자 혹은 액셀러레이터 투자 경험여부</th>\n",
       "      <th>창업 당시 창업자 실무경험 년수(년)</th>\n",
       "      <th>창업 직전 근무지</th>\n",
       "      <th>부서별_인력구성(생산)</th>\n",
       "      <th>부서별_인력구성(RnD)</th>\n",
       "      <th>총자산회전율</th>\n",
       "      <th>순이익률</th>\n",
       "      <th>이자보상배율</th>\n",
       "      <th>주력제품 국내 시장점유율(퍼센트)</th>\n",
       "      <th>주력제품 해외 시장점유율(퍼센트)</th>\n",
       "      <th>학력별 인력구성비(대졸)</th>\n",
       "      <th>창업 당시 목표시장</th>\n",
       "      <th>해외수출 및 진출과정 애로사항</th>\n",
       "      <th>벤처캐피털(투자조합포함) 투자 경험여부</th>\n",
       "    </tr>\n",
       "  </thead>\n",
       "  <tbody>\n",
       "    <tr>\n",
       "      <th>0</th>\n",
       "      <td>0</td>\n",
       "      <td>4.0</td>\n",
       "      <td>6</td>\n",
       "      <td>0.000</td>\n",
       "      <td>40.000</td>\n",
       "      <td>0.00056</td>\n",
       "      <td>-1739.260</td>\n",
       "      <td>-2.55331</td>\n",
       "      <td>1.00</td>\n",
       "      <td>0.0</td>\n",
       "      <td>46.667</td>\n",
       "      <td>1.0</td>\n",
       "      <td>2.0</td>\n",
       "      <td>1</td>\n",
       "    </tr>\n",
       "    <tr>\n",
       "      <th>1</th>\n",
       "      <td>0</td>\n",
       "      <td>10.0</td>\n",
       "      <td>6</td>\n",
       "      <td>0.000</td>\n",
       "      <td>20.000</td>\n",
       "      <td>1.82613</td>\n",
       "      <td>3.063</td>\n",
       "      <td>4.17742</td>\n",
       "      <td>1.00</td>\n",
       "      <td>0.0</td>\n",
       "      <td>20.000</td>\n",
       "      <td>1.0</td>\n",
       "      <td>8.0</td>\n",
       "      <td>0</td>\n",
       "    </tr>\n",
       "    <tr>\n",
       "      <th>2</th>\n",
       "      <td>0</td>\n",
       "      <td>7.0</td>\n",
       "      <td>6</td>\n",
       "      <td>0.000</td>\n",
       "      <td>13.333</td>\n",
       "      <td>0.47157</td>\n",
       "      <td>8.065</td>\n",
       "      <td>2.76033</td>\n",
       "      <td>10.00</td>\n",
       "      <td>0.0</td>\n",
       "      <td>13.333</td>\n",
       "      <td>1.0</td>\n",
       "      <td>4.0</td>\n",
       "      <td>0</td>\n",
       "    </tr>\n",
       "    <tr>\n",
       "      <th>3</th>\n",
       "      <td>0</td>\n",
       "      <td>25.0</td>\n",
       "      <td>6</td>\n",
       "      <td>26.627</td>\n",
       "      <td>23.669</td>\n",
       "      <td>0.55927</td>\n",
       "      <td>-6.119</td>\n",
       "      <td>0.14706</td>\n",
       "      <td>30.00</td>\n",
       "      <td>5.0</td>\n",
       "      <td>20.000</td>\n",
       "      <td>3.0</td>\n",
       "      <td>3.0</td>\n",
       "      <td>0</td>\n",
       "    </tr>\n",
       "    <tr>\n",
       "      <th>4</th>\n",
       "      <td>0</td>\n",
       "      <td>25.0</td>\n",
       "      <td>6</td>\n",
       "      <td>28.182</td>\n",
       "      <td>22.727</td>\n",
       "      <td>0.69228</td>\n",
       "      <td>-11.386</td>\n",
       "      <td>-1.02653</td>\n",
       "      <td>30.00</td>\n",
       "      <td>0.0</td>\n",
       "      <td>20.000</td>\n",
       "      <td>3.0</td>\n",
       "      <td>2.0</td>\n",
       "      <td>0</td>\n",
       "    </tr>\n",
       "    <tr>\n",
       "      <th>...</th>\n",
       "      <td>...</td>\n",
       "      <td>...</td>\n",
       "      <td>...</td>\n",
       "      <td>...</td>\n",
       "      <td>...</td>\n",
       "      <td>...</td>\n",
       "      <td>...</td>\n",
       "      <td>...</td>\n",
       "      <td>...</td>\n",
       "      <td>...</td>\n",
       "      <td>...</td>\n",
       "      <td>...</td>\n",
       "      <td>...</td>\n",
       "      <td>...</td>\n",
       "    </tr>\n",
       "    <tr>\n",
       "      <th>12379</th>\n",
       "      <td>0</td>\n",
       "      <td>12.0</td>\n",
       "      <td>6</td>\n",
       "      <td>0.000</td>\n",
       "      <td>36.364</td>\n",
       "      <td>0.78543</td>\n",
       "      <td>-11.720</td>\n",
       "      <td>-17.84615</td>\n",
       "      <td>0.01</td>\n",
       "      <td>0.0</td>\n",
       "      <td>81.818</td>\n",
       "      <td>1.0</td>\n",
       "      <td>1.0</td>\n",
       "      <td>0</td>\n",
       "    </tr>\n",
       "    <tr>\n",
       "      <th>12380</th>\n",
       "      <td>0</td>\n",
       "      <td>0.0</td>\n",
       "      <td>10</td>\n",
       "      <td>50.000</td>\n",
       "      <td>6.667</td>\n",
       "      <td>6.03905</td>\n",
       "      <td>2.822</td>\n",
       "      <td>13.23077</td>\n",
       "      <td>15.00</td>\n",
       "      <td>0.0</td>\n",
       "      <td>40.000</td>\n",
       "      <td>3.0</td>\n",
       "      <td>2.0</td>\n",
       "      <td>0</td>\n",
       "    </tr>\n",
       "    <tr>\n",
       "      <th>12381</th>\n",
       "      <td>0</td>\n",
       "      <td>20.0</td>\n",
       "      <td>6</td>\n",
       "      <td>0.000</td>\n",
       "      <td>1.923</td>\n",
       "      <td>3.85063</td>\n",
       "      <td>-0.801</td>\n",
       "      <td>-1.01471</td>\n",
       "      <td>1.00</td>\n",
       "      <td>0.0</td>\n",
       "      <td>48.077</td>\n",
       "      <td>1.0</td>\n",
       "      <td>5.0</td>\n",
       "      <td>0</td>\n",
       "    </tr>\n",
       "    <tr>\n",
       "      <th>12382</th>\n",
       "      <td>0</td>\n",
       "      <td>15.0</td>\n",
       "      <td>5</td>\n",
       "      <td>0.000</td>\n",
       "      <td>20.690</td>\n",
       "      <td>5.11376</td>\n",
       "      <td>2.205</td>\n",
       "      <td>10.09924</td>\n",
       "      <td>5.00</td>\n",
       "      <td>0.0</td>\n",
       "      <td>90.000</td>\n",
       "      <td>1.0</td>\n",
       "      <td>2.0</td>\n",
       "      <td>0</td>\n",
       "    </tr>\n",
       "    <tr>\n",
       "      <th>12383</th>\n",
       "      <td>0</td>\n",
       "      <td>8.0</td>\n",
       "      <td>5</td>\n",
       "      <td>0.000</td>\n",
       "      <td>2.632</td>\n",
       "      <td>3.85063</td>\n",
       "      <td>-0.801</td>\n",
       "      <td>-1.01471</td>\n",
       "      <td>15.00</td>\n",
       "      <td>0.0</td>\n",
       "      <td>21.711</td>\n",
       "      <td>1.0</td>\n",
       "      <td>7.0</td>\n",
       "      <td>0</td>\n",
       "    </tr>\n",
       "  </tbody>\n",
       "</table>\n",
       "<p>12384 rows × 14 columns</p>\n",
       "</div>"
      ],
      "text/plain": [
       "       엔젤투자자 혹은 액셀러레이터 투자 경험여부  창업 당시 창업자 실무경험 년수(년)  창업 직전 근무지  부서별_인력구성(생산)  \\\n",
       "0                            0                   4.0          6         0.000   \n",
       "1                            0                  10.0          6         0.000   \n",
       "2                            0                   7.0          6         0.000   \n",
       "3                            0                  25.0          6        26.627   \n",
       "4                            0                  25.0          6        28.182   \n",
       "...                        ...                   ...        ...           ...   \n",
       "12379                        0                  12.0          6         0.000   \n",
       "12380                        0                   0.0         10        50.000   \n",
       "12381                        0                  20.0          6         0.000   \n",
       "12382                        0                  15.0          5         0.000   \n",
       "12383                        0                   8.0          5         0.000   \n",
       "\n",
       "       부서별_인력구성(RnD)   총자산회전율      순이익률    이자보상배율  주력제품 국내 시장점유율(퍼센트)  \\\n",
       "0             40.000  0.00056 -1739.260  -2.55331                1.00   \n",
       "1             20.000  1.82613     3.063   4.17742                1.00   \n",
       "2             13.333  0.47157     8.065   2.76033               10.00   \n",
       "3             23.669  0.55927    -6.119   0.14706               30.00   \n",
       "4             22.727  0.69228   -11.386  -1.02653               30.00   \n",
       "...              ...      ...       ...       ...                 ...   \n",
       "12379         36.364  0.78543   -11.720 -17.84615                0.01   \n",
       "12380          6.667  6.03905     2.822  13.23077               15.00   \n",
       "12381          1.923  3.85063    -0.801  -1.01471                1.00   \n",
       "12382         20.690  5.11376     2.205  10.09924                5.00   \n",
       "12383          2.632  3.85063    -0.801  -1.01471               15.00   \n",
       "\n",
       "       주력제품 해외 시장점유율(퍼센트)  학력별 인력구성비(대졸)  창업 당시 목표시장  해외수출 및 진출과정 애로사항  \\\n",
       "0                     0.0         46.667         1.0               2.0   \n",
       "1                     0.0         20.000         1.0               8.0   \n",
       "2                     0.0         13.333         1.0               4.0   \n",
       "3                     5.0         20.000         3.0               3.0   \n",
       "4                     0.0         20.000         3.0               2.0   \n",
       "...                   ...            ...         ...               ...   \n",
       "12379                 0.0         81.818         1.0               1.0   \n",
       "12380                 0.0         40.000         3.0               2.0   \n",
       "12381                 0.0         48.077         1.0               5.0   \n",
       "12382                 0.0         90.000         1.0               2.0   \n",
       "12383                 0.0         21.711         1.0               7.0   \n",
       "\n",
       "       벤처캐피털(투자조합포함) 투자 경험여부  \n",
       "0                          1  \n",
       "1                          0  \n",
       "2                          0  \n",
       "3                          0  \n",
       "4                          0  \n",
       "...                      ...  \n",
       "12379                      0  \n",
       "12380                      0  \n",
       "12381                      0  \n",
       "12382                      0  \n",
       "12383                      0  \n",
       "\n",
       "[12384 rows x 14 columns]"
      ]
     },
     "execution_count": 11,
     "metadata": {},
     "output_type": "execute_result"
    }
   ],
   "source": [
    "df"
   ]
  },
  {
   "cell_type": "code",
   "execution_count": 16,
   "metadata": {},
   "outputs": [],
   "source": [
    "x = df[df[\"벤처캐피털(투자조합포함) 투자 경험여부\"] == 1]\n",
    "y = df[df[\"벤처캐피털(투자조합포함) 투자 경험여부\"] == 0]"
   ]
  },
  {
   "cell_type": "code",
   "execution_count": 17,
   "metadata": {},
   "outputs": [],
   "source": [
    "x.drop(['창업 당시 창업자 실무경험 년수(년)', '부서별_인력구성(생산)', '부서별_인력구성(RnD)', '총자산회전율', '순이익률', '이자보상배율', '주력제품 국내 시장점유율(퍼센트)', '주력제품 해외 시장점유율(퍼센트)', '학력별 인력구성비(대졸)', '벤처캐피털(투자조합포함) 투자 경험여부'], axis=1, inplace=True)\n",
    "y.drop(['창업 당시 창업자 실무경험 년수(년)', '부서별_인력구성(생산)', '부서별_인력구성(RnD)', '총자산회전율', '순이익률', '이자보상배율', '주력제품 국내 시장점유율(퍼센트)', '주력제품 해외 시장점유율(퍼센트)', '학력별 인력구성비(대졸)', '벤처캐피털(투자조합포함) 투자 경험여부'], axis=1, inplace=True)"
   ]
  },
  {
   "cell_type": "code",
   "execution_count": 7,
   "metadata": {},
   "outputs": [],
   "source": [
    "df_1 = df[df['벤처캐피털(투자조합포함) 투자 경험여부']==1]\n",
    "df_0 = df[df['벤처캐피털(투자조합포함) 투자 경험여부']==0]"
   ]
  },
  {
   "cell_type": "code",
   "execution_count": 90,
   "metadata": {},
   "outputs": [],
   "source": [
    "df_1.drop(['엔젤투자자 혹은 액셀러레이터 투자 경험여부', '창업 직전 근무지', '해외수출 및 진출과정 애로사항', '창업 당시 목표시장'], axis=1, inplace=True)\n",
    "df_0.drop(['엔젤투자자 혹은 액셀러레이터 투자 경험여부', '창업 직전 근무지', '해외수출 및 진출과정 애로사항', '창업 당시 목표시장'], axis=1, inplace=True)"
   ]
  },
  {
   "attachments": {},
   "cell_type": "markdown",
   "metadata": {},
   "source": [
    "### 수치형 변수 중간값 기준 확인"
   ]
  },
  {
   "cell_type": "code",
   "execution_count": 91,
   "metadata": {},
   "outputs": [],
   "source": [
    "import pandas as pd\n",
    "\n",
    "def split_dataframe_by_median(df, column):\n",
    "    df1 = df.copy()\n",
    "    df1.sort_values(by=column, ascending=True, inplace=True)\n",
    "    median = df1[column].median()\n",
    "    data1 = df1[df1[column] <= median]\n",
    "    data2 = df1[df1[column] > median]\n",
    "    count1 = data1['벤처캐피털(투자조합포함) 투자 경험여부'].value_counts()\n",
    "    count2 = data2['벤처캐피털(투자조합포함) 투자 경험여부'].value_counts()\n",
    "\n",
    "    return data1, data2, count1, count2"
   ]
  },
  {
   "attachments": {},
   "cell_type": "markdown",
   "metadata": {},
   "source": [
    "> 순이익률"
   ]
  },
  {
   "cell_type": "code",
   "execution_count": 94,
   "metadata": {},
   "outputs": [
    {
     "name": "stdout",
     "output_type": "stream",
     "text": [
      "Data1 Value Counts:\n",
      " 0    5619\n",
      "1     573\n",
      "Name: 벤처캐피털(투자조합포함) 투자 경험여부, dtype: int64\n",
      "Data2 Value Counts:\n",
      " 0    5848\n",
      "1     344\n",
      "Name: 벤처캐피털(투자조합포함) 투자 경험여부, dtype: int64\n",
      "Data1의 1 비율 : 9.25%\n",
      "Data2의 1 비율 : 5.56%\n"
     ]
    }
   ],
   "source": [
    "# 함수 사용 예시\n",
    "df1 = df[['순이익률', '벤처캐피털(투자조합포함) 투자 경험여부']]\n",
    "data1, data2, count1, count2 = split_dataframe_by_median(df1, '순이익률')\n",
    "target_rate1 = (len(data1[data1['벤처캐피털(투자조합포함) 투자 경험여부']==1])) / (data1['벤처캐피털(투자조합포함) 투자 경험여부'].value_counts().sum()) * 100\n",
    "target_rate2 = (len(data2[data2['벤처캐피털(투자조합포함) 투자 경험여부']==1])) / (data2['벤처캐피털(투자조합포함) 투자 경험여부'].value_counts().sum()) * 100\n",
    "\n",
    "# 결과 출력\n",
    "\n",
    "print(\"Data1 Value Counts:\\n\", count1)\n",
    "print(\"Data2 Value Counts:\\n\", count2)\n",
    "print(f\"Data1의 1 비율 : {target_rate1:.2f}%\")\n",
    "print(f\"Data2의 1 비율 : {target_rate2:.2f}%\")"
   ]
  },
  {
   "attachments": {},
   "cell_type": "markdown",
   "metadata": {},
   "source": [
    "> 주력제품 해외 시장점유율(퍼센트)"
   ]
  },
  {
   "cell_type": "code",
   "execution_count": 93,
   "metadata": {},
   "outputs": [
    {
     "name": "stdout",
     "output_type": "stream",
     "text": [
      "Data1 Value Counts:\n",
      " 0    7986\n",
      "1     444\n",
      "Name: 벤처캐피털(투자조합포함) 투자 경험여부, dtype: int64\n",
      "Data2 Value Counts:\n",
      " 0    3481\n",
      "1     473\n",
      "Name: 벤처캐피털(투자조합포함) 투자 경험여부, dtype: int64\n",
      "Data1의 1 비율 : 5.27%\n",
      "Data2의 1 비율 : 11.96%\n"
     ]
    }
   ],
   "source": [
    "# 함수 사용 예시\n",
    "df1 = df[['주력제품 해외 시장점유율(퍼센트)', '벤처캐피털(투자조합포함) 투자 경험여부']]\n",
    "data1, data2, count1, count2 = split_dataframe_by_median(df1, '주력제품 해외 시장점유율(퍼센트)')\n",
    "target_rate1 = (len(data1[data1['벤처캐피털(투자조합포함) 투자 경험여부']==1])) / (data1['벤처캐피털(투자조합포함) 투자 경험여부'].value_counts().sum()) * 100\n",
    "target_rate2 = (len(data2[data2['벤처캐피털(투자조합포함) 투자 경험여부']==1])) / (data2['벤처캐피털(투자조합포함) 투자 경험여부'].value_counts().sum()) * 100\n",
    "\n",
    "# 결과 출력\n",
    "\n",
    "print(\"Data1 Value Counts:\\n\", count1)\n",
    "print(\"Data2 Value Counts:\\n\", count2)\n",
    "print(f\"Data1의 1 비율 : {target_rate1:.2f}%\")\n",
    "print(f\"Data2의 1 비율 : {target_rate2:.2f}%\")"
   ]
  },
  {
   "attachments": {},
   "cell_type": "markdown",
   "metadata": {},
   "source": [
    "> 부서별_인력구성(생산)"
   ]
  },
  {
   "cell_type": "code",
   "execution_count": 53,
   "metadata": {},
   "outputs": [
    {
     "name": "stdout",
     "output_type": "stream",
     "text": [
      "Data1 Value Counts:\n",
      " 0    5617\n",
      "1     589\n",
      "Name: 벤처캐피털(투자조합포함) 투자 경험여부, dtype: int64\n",
      "Data2 Value Counts:\n",
      " 0    5850\n",
      "1     328\n",
      "Name: 벤처캐피털(투자조합포함) 투자 경험여부, dtype: int64\n",
      "Data1의 1 비율 : 9.49%\n",
      "Data2의 1 비율 : 5.31%\n"
     ]
    }
   ],
   "source": [
    "# 함수 사용 예시\n",
    "df1 = df[['부서별_인력구성(생산)', '벤처캐피털(투자조합포함) 투자 경험여부']]\n",
    "data1, data2, count1, count2 = split_dataframe_by_median(df1, '부서별_인력구성(생산)')\n",
    "target_rate1 = (len(data1[data1['벤처캐피털(투자조합포함) 투자 경험여부']==1])) / (data1['벤처캐피털(투자조합포함) 투자 경험여부'].value_counts().sum()) * 100\n",
    "target_rate2 = (len(data2[data2['벤처캐피털(투자조합포함) 투자 경험여부']==1])) / (data2['벤처캐피털(투자조합포함) 투자 경험여부'].value_counts().sum()) * 100\n",
    "\n",
    "# 결과 출력\n",
    "\n",
    "print(\"Data1 Value Counts:\\n\", count1)\n",
    "print(\"Data2 Value Counts:\\n\", count2)\n",
    "print(f\"Data1의 1 비율 : {target_rate1:.2f}%\")\n",
    "print(f\"Data2의 1 비율 : {target_rate2:.2f}%\")"
   ]
  },
  {
   "attachments": {},
   "cell_type": "markdown",
   "metadata": {},
   "source": [
    "> 학력별 인력구성비(대졸)"
   ]
  },
  {
   "cell_type": "code",
   "execution_count": 54,
   "metadata": {},
   "outputs": [
    {
     "name": "stdout",
     "output_type": "stream",
     "text": [
      "Data1 Value Counts:\n",
      " 0    5890\n",
      "1     341\n",
      "Name: 벤처캐피털(투자조합포함) 투자 경험여부, dtype: int64\n",
      "Data2 Value Counts:\n",
      " 0    5577\n",
      "1     576\n",
      "Name: 벤처캐피털(투자조합포함) 투자 경험여부, dtype: int64\n",
      "Data1의 1 비율 : 5.47%\n",
      "Data2의 1 비율 : 9.36%\n"
     ]
    }
   ],
   "source": [
    "# 함수 사용 예시\n",
    "df1 = df[['학력별 인력구성비(대졸)', '벤처캐피털(투자조합포함) 투자 경험여부']]\n",
    "data1, data2, count1, count2 = split_dataframe_by_median(df1, '학력별 인력구성비(대졸)')\n",
    "target_rate1 = (len(data1[data1['벤처캐피털(투자조합포함) 투자 경험여부']==1])) / (data1['벤처캐피털(투자조합포함) 투자 경험여부'].value_counts().sum()) * 100\n",
    "target_rate2 = (len(data2[data2['벤처캐피털(투자조합포함) 투자 경험여부']==1])) / (data2['벤처캐피털(투자조합포함) 투자 경험여부'].value_counts().sum()) * 100\n",
    "\n",
    "# 결과 출력\n",
    "\n",
    "print(\"Data1 Value Counts:\\n\", count1)\n",
    "print(\"Data2 Value Counts:\\n\", count2)\n",
    "print(f\"Data1의 1 비율 : {target_rate1:.2f}%\")\n",
    "print(f\"Data2의 1 비율 : {target_rate2:.2f}%\")"
   ]
  },
  {
   "attachments": {},
   "cell_type": "markdown",
   "metadata": {},
   "source": [
    "> 총자산회전율"
   ]
  },
  {
   "cell_type": "code",
   "execution_count": 55,
   "metadata": {},
   "outputs": [
    {
     "name": "stdout",
     "output_type": "stream",
     "text": [
      "Data1 Value Counts:\n",
      " 0    5576\n",
      "1     616\n",
      "Name: 벤처캐피털(투자조합포함) 투자 경험여부, dtype: int64\n",
      "Data2 Value Counts:\n",
      " 0    5891\n",
      "1     301\n",
      "Name: 벤처캐피털(투자조합포함) 투자 경험여부, dtype: int64\n",
      "Data1의 1 비율 : 9.95%\n",
      "Data2의 1 비율 : 4.86%\n"
     ]
    }
   ],
   "source": [
    "# 함수 사용 예시\n",
    "df1 = df[['총자산회전율', '벤처캐피털(투자조합포함) 투자 경험여부']]\n",
    "data1, data2, count1, count2 = split_dataframe_by_median(df1, '총자산회전율')\n",
    "target_rate1 = (len(data1[data1['벤처캐피털(투자조합포함) 투자 경험여부']==1])) / (data1['벤처캐피털(투자조합포함) 투자 경험여부'].value_counts().sum()) * 100\n",
    "target_rate2 = (len(data2[data2['벤처캐피털(투자조합포함) 투자 경험여부']==1])) / (data2['벤처캐피털(투자조합포함) 투자 경험여부'].value_counts().sum()) * 100\n",
    "\n",
    "# 결과 출력\n",
    "\n",
    "print(\"Data1 Value Counts:\\n\", count1)\n",
    "print(\"Data2 Value Counts:\\n\", count2)\n",
    "print(f\"Data1의 1 비율 : {target_rate1:.2f}%\")\n",
    "print(f\"Data2의 1 비율 : {target_rate2:.2f}%\")"
   ]
  },
  {
   "attachments": {},
   "cell_type": "markdown",
   "metadata": {},
   "source": [
    "> 주력제품 국내 시장점유율(퍼센트)"
   ]
  },
  {
   "cell_type": "code",
   "execution_count": 56,
   "metadata": {},
   "outputs": [
    {
     "name": "stdout",
     "output_type": "stream",
     "text": [
      "Data1 Value Counts:\n",
      " 0    6743\n",
      "1     422\n",
      "Name: 벤처캐피털(투자조합포함) 투자 경험여부, dtype: int64\n",
      "Data2 Value Counts:\n",
      " 0    4724\n",
      "1     495\n",
      "Name: 벤처캐피털(투자조합포함) 투자 경험여부, dtype: int64\n",
      "Data1의 1 비율 : 5.89%\n",
      "Data2의 1 비율 : 9.48%\n"
     ]
    }
   ],
   "source": [
    "# 함수 사용 예시\n",
    "df1 = df[['주력제품 국내 시장점유율(퍼센트)', '벤처캐피털(투자조합포함) 투자 경험여부']]\n",
    "data1, data2, count1, count2 = split_dataframe_by_median(df1, '주력제품 국내 시장점유율(퍼센트)')\n",
    "target_rate1 = (len(data1[data1['벤처캐피털(투자조합포함) 투자 경험여부']==1])) / (data1['벤처캐피털(투자조합포함) 투자 경험여부'].value_counts().sum()) * 100\n",
    "target_rate2 = (len(data2[data2['벤처캐피털(투자조합포함) 투자 경험여부']==1])) / (data2['벤처캐피털(투자조합포함) 투자 경험여부'].value_counts().sum()) * 100\n",
    "\n",
    "# 결과 출력\n",
    "\n",
    "print(\"Data1 Value Counts:\\n\", count1)\n",
    "print(\"Data2 Value Counts:\\n\", count2)\n",
    "print(f\"Data1의 1 비율 : {target_rate1:.2f}%\")\n",
    "print(f\"Data2의 1 비율 : {target_rate2:.2f}%\")"
   ]
  },
  {
   "attachments": {},
   "cell_type": "markdown",
   "metadata": {},
   "source": [
    "> 부서별_인력구성(RnD)"
   ]
  },
  {
   "cell_type": "code",
   "execution_count": 57,
   "metadata": {},
   "outputs": [
    {
     "name": "stdout",
     "output_type": "stream",
     "text": [
      "Data1 Value Counts:\n",
      " 0    5805\n",
      "1     391\n",
      "Name: 벤처캐피털(투자조합포함) 투자 경험여부, dtype: int64\n",
      "Data2 Value Counts:\n",
      " 0    5662\n",
      "1     526\n",
      "Name: 벤처캐피털(투자조합포함) 투자 경험여부, dtype: int64\n",
      "Data1의 1 비율 : 6.31%\n",
      "Data2의 1 비율 : 8.50%\n"
     ]
    }
   ],
   "source": [
    "# 함수 사용 예시\n",
    "df1 = df[['부서별_인력구성(RnD)', '벤처캐피털(투자조합포함) 투자 경험여부']]\n",
    "data1, data2, count1, count2 = split_dataframe_by_median(df1, '부서별_인력구성(RnD)')\n",
    "target_rate1 = (len(data1[data1['벤처캐피털(투자조합포함) 투자 경험여부']==1])) / (data1['벤처캐피털(투자조합포함) 투자 경험여부'].value_counts().sum()) * 100\n",
    "target_rate2 = (len(data2[data2['벤처캐피털(투자조합포함) 투자 경험여부']==1])) / (data2['벤처캐피털(투자조합포함) 투자 경험여부'].value_counts().sum()) * 100\n",
    "\n",
    "# 결과 출력\n",
    "\n",
    "print(\"Data1 Value Counts:\\n\", count1)\n",
    "print(\"Data2 Value Counts:\\n\", count2)\n",
    "print(f\"Data1의 1 비율 : {target_rate1:.2f}%\")\n",
    "print(f\"Data2의 1 비율 : {target_rate2:.2f}%\")"
   ]
  },
  {
   "attachments": {},
   "cell_type": "markdown",
   "metadata": {},
   "source": [
    "> 이자보상배율"
   ]
  },
  {
   "cell_type": "code",
   "execution_count": 58,
   "metadata": {},
   "outputs": [
    {
     "name": "stdout",
     "output_type": "stream",
     "text": [
      "Data1 Value Counts:\n",
      " 0    5609\n",
      "1     584\n",
      "Name: 벤처캐피털(투자조합포함) 투자 경험여부, dtype: int64\n",
      "Data2 Value Counts:\n",
      " 0    5858\n",
      "1     333\n",
      "Name: 벤처캐피털(투자조합포함) 투자 경험여부, dtype: int64\n",
      "Data1의 1 비율 : 9.43%\n",
      "Data2의 1 비율 : 5.38%\n"
     ]
    }
   ],
   "source": [
    "# 함수 사용 예시\n",
    "df1 = df[['이자보상배율', '벤처캐피털(투자조합포함) 투자 경험여부']]\n",
    "data1, data2, count1, count2 = split_dataframe_by_median(df1, '이자보상배율')\n",
    "target_rate1 = (len(data1[data1['벤처캐피털(투자조합포함) 투자 경험여부']==1])) / (data1['벤처캐피털(투자조합포함) 투자 경험여부'].value_counts().sum()) * 100\n",
    "target_rate2 = (len(data2[data2['벤처캐피털(투자조합포함) 투자 경험여부']==1])) / (data2['벤처캐피털(투자조합포함) 투자 경험여부'].value_counts().sum()) * 100\n",
    "\n",
    "# 결과 출력\n",
    "\n",
    "print(\"Data1 Value Counts:\\n\", count1)\n",
    "print(\"Data2 Value Counts:\\n\", count2)\n",
    "print(f\"Data1의 1 비율 : {target_rate1:.2f}%\")\n",
    "print(f\"Data2의 1 비율 : {target_rate2:.2f}%\")"
   ]
  },
  {
   "attachments": {},
   "cell_type": "markdown",
   "metadata": {},
   "source": [
    "> 창업 당시 창업자 실무경험 년수(년)"
   ]
  },
  {
   "cell_type": "code",
   "execution_count": 95,
   "metadata": {},
   "outputs": [
    {
     "name": "stdout",
     "output_type": "stream",
     "text": [
      "Data1 Value Counts:\n",
      " 0    6803\n",
      "1     573\n",
      "Name: 벤처캐피털(투자조합포함) 투자 경험여부, dtype: int64\n",
      "Data2 Value Counts:\n",
      " 0    4664\n",
      "1     344\n",
      "Name: 벤처캐피털(투자조합포함) 투자 경험여부, dtype: int64\n",
      "Data1의 1 비율 : 7.77%\n",
      "Data2의 1 비율 : 6.87%\n"
     ]
    }
   ],
   "source": [
    "# 함수 사용 예시\n",
    "df1 = df[['창업 당시 창업자 실무경험 년수(년)', '벤처캐피털(투자조합포함) 투자 경험여부']]\n",
    "data1, data2, count1, count2 = split_dataframe_by_median(df1, '창업 당시 창업자 실무경험 년수(년)')\n",
    "target_rate1 = (len(data1[data1['벤처캐피털(투자조합포함) 투자 경험여부']==1])) / (data1['벤처캐피털(투자조합포함) 투자 경험여부'].value_counts().sum()) * 100\n",
    "target_rate2 = (len(data2[data2['벤처캐피털(투자조합포함) 투자 경험여부']==1])) / (data2['벤처캐피털(투자조합포함) 투자 경험여부'].value_counts().sum()) * 100\n",
    "\n",
    "# 결과 출력\n",
    "\n",
    "print(\"Data1 Value Counts:\\n\", count1)\n",
    "print(\"Data2 Value Counts:\\n\", count2)\n",
    "print(f\"Data1의 1 비율 : {target_rate1:.2f}%\")\n",
    "print(f\"Data2의 1 비율 : {target_rate2:.2f}%\")"
   ]
  },
  {
   "attachments": {},
   "cell_type": "markdown",
   "metadata": {},
   "source": [
    "### 수치형 변수 평균값 차이"
   ]
  },
  {
   "cell_type": "code",
   "execution_count": 83,
   "metadata": {},
   "outputs": [
    {
     "data": {
      "text/html": [
       "<div>\n",
       "<style scoped>\n",
       "    .dataframe tbody tr th:only-of-type {\n",
       "        vertical-align: middle;\n",
       "    }\n",
       "\n",
       "    .dataframe tbody tr th {\n",
       "        vertical-align: top;\n",
       "    }\n",
       "\n",
       "    .dataframe thead th {\n",
       "        text-align: right;\n",
       "    }\n",
       "</style>\n",
       "<table border=\"1\" class=\"dataframe\">\n",
       "  <thead>\n",
       "    <tr style=\"text-align: right;\">\n",
       "      <th></th>\n",
       "      <th>창업 당시 창업자 실무경험 년수(년)</th>\n",
       "      <th>부서별_인력구성(생산)</th>\n",
       "      <th>부서별_인력구성(RnD)</th>\n",
       "      <th>총자산회전율</th>\n",
       "      <th>순이익률</th>\n",
       "      <th>이자보상배율</th>\n",
       "      <th>주력제품 국내 시장점유율(퍼센트)</th>\n",
       "      <th>주력제품 해외 시장점유율(퍼센트)</th>\n",
       "      <th>학력별 인력구성비(대졸)</th>\n",
       "    </tr>\n",
       "  </thead>\n",
       "  <tbody>\n",
       "    <tr>\n",
       "      <th>count</th>\n",
       "      <td>11467.000000</td>\n",
       "      <td>11467.000000</td>\n",
       "      <td>11467.000000</td>\n",
       "      <td>11467.000000</td>\n",
       "      <td>11467.000000</td>\n",
       "      <td>11467.000000</td>\n",
       "      <td>11467.000000</td>\n",
       "      <td>11467.000000</td>\n",
       "      <td>11467.000000</td>\n",
       "    </tr>\n",
       "    <tr>\n",
       "      <th>mean</th>\n",
       "      <td>10.434935</td>\n",
       "      <td>35.179606</td>\n",
       "      <td>21.352163</td>\n",
       "      <td>1.324918</td>\n",
       "      <td>-8.388219</td>\n",
       "      <td>69.442409</td>\n",
       "      <td>10.478083</td>\n",
       "      <td>1.090216</td>\n",
       "      <td>47.750284</td>\n",
       "    </tr>\n",
       "    <tr>\n",
       "      <th>std</th>\n",
       "      <td>7.295881</td>\n",
       "      <td>26.268099</td>\n",
       "      <td>19.531841</td>\n",
       "      <td>1.306860</td>\n",
       "      <td>114.385938</td>\n",
       "      <td>300.561956</td>\n",
       "      <td>15.556511</td>\n",
       "      <td>5.550331</td>\n",
       "      <td>24.375302</td>\n",
       "    </tr>\n",
       "    <tr>\n",
       "      <th>min</th>\n",
       "      <td>0.000000</td>\n",
       "      <td>0.000000</td>\n",
       "      <td>0.000000</td>\n",
       "      <td>0.000000</td>\n",
       "      <td>-1739.260000</td>\n",
       "      <td>-366.500000</td>\n",
       "      <td>0.000000</td>\n",
       "      <td>0.000000</td>\n",
       "      <td>0.000000</td>\n",
       "    </tr>\n",
       "    <tr>\n",
       "      <th>25%</th>\n",
       "      <td>5.000000</td>\n",
       "      <td>7.843000</td>\n",
       "      <td>7.692000</td>\n",
       "      <td>0.677575</td>\n",
       "      <td>0.977500</td>\n",
       "      <td>1.042515</td>\n",
       "      <td>1.000000</td>\n",
       "      <td>0.000000</td>\n",
       "      <td>28.571000</td>\n",
       "    </tr>\n",
       "    <tr>\n",
       "      <th>50%</th>\n",
       "      <td>10.000000</td>\n",
       "      <td>37.500000</td>\n",
       "      <td>15.385000</td>\n",
       "      <td>1.045380</td>\n",
       "      <td>3.390000</td>\n",
       "      <td>3.227270</td>\n",
       "      <td>5.000000</td>\n",
       "      <td>0.000000</td>\n",
       "      <td>44.444000</td>\n",
       "    </tr>\n",
       "    <tr>\n",
       "      <th>75%</th>\n",
       "      <td>15.000000</td>\n",
       "      <td>57.200500</td>\n",
       "      <td>29.730000</td>\n",
       "      <td>1.590140</td>\n",
       "      <td>7.397000</td>\n",
       "      <td>11.042280</td>\n",
       "      <td>10.000000</td>\n",
       "      <td>0.010000</td>\n",
       "      <td>66.667000</td>\n",
       "    </tr>\n",
       "    <tr>\n",
       "      <th>max</th>\n",
       "      <td>50.000000</td>\n",
       "      <td>100.000000</td>\n",
       "      <td>100.000000</td>\n",
       "      <td>18.687240</td>\n",
       "      <td>175.477000</td>\n",
       "      <td>1476.000000</td>\n",
       "      <td>100.000000</td>\n",
       "      <td>100.000000</td>\n",
       "      <td>100.000000</td>\n",
       "    </tr>\n",
       "  </tbody>\n",
       "</table>\n",
       "</div>"
      ],
      "text/plain": [
       "       창업 당시 창업자 실무경험 년수(년)  부서별_인력구성(생산)  부서별_인력구성(RnD)        총자산회전율  \\\n",
       "count          11467.000000  11467.000000   11467.000000  11467.000000   \n",
       "mean              10.434935     35.179606      21.352163      1.324918   \n",
       "std                7.295881     26.268099      19.531841      1.306860   \n",
       "min                0.000000      0.000000       0.000000      0.000000   \n",
       "25%                5.000000      7.843000       7.692000      0.677575   \n",
       "50%               10.000000     37.500000      15.385000      1.045380   \n",
       "75%               15.000000     57.200500      29.730000      1.590140   \n",
       "max               50.000000    100.000000     100.000000     18.687240   \n",
       "\n",
       "               순이익률        이자보상배율  주력제품 국내 시장점유율(퍼센트)  주력제품 해외 시장점유율(퍼센트)  \\\n",
       "count  11467.000000  11467.000000        11467.000000        11467.000000   \n",
       "mean      -8.388219     69.442409           10.478083            1.090216   \n",
       "std      114.385938    300.561956           15.556511            5.550331   \n",
       "min    -1739.260000   -366.500000            0.000000            0.000000   \n",
       "25%        0.977500      1.042515            1.000000            0.000000   \n",
       "50%        3.390000      3.227270            5.000000            0.000000   \n",
       "75%        7.397000     11.042280           10.000000            0.010000   \n",
       "max      175.477000   1476.000000          100.000000          100.000000   \n",
       "\n",
       "       학력별 인력구성비(대졸)  \n",
       "count   11467.000000  \n",
       "mean       47.750284  \n",
       "std        24.375302  \n",
       "min         0.000000  \n",
       "25%        28.571000  \n",
       "50%        44.444000  \n",
       "75%        66.667000  \n",
       "max       100.000000  "
      ]
     },
     "execution_count": 83,
     "metadata": {},
     "output_type": "execute_result"
    }
   ],
   "source": [
    "df_0.iloc[:,:-1].describe()"
   ]
  },
  {
   "cell_type": "code",
   "execution_count": 84,
   "metadata": {},
   "outputs": [
    {
     "data": {
      "text/html": [
       "<div>\n",
       "<style scoped>\n",
       "    .dataframe tbody tr th:only-of-type {\n",
       "        vertical-align: middle;\n",
       "    }\n",
       "\n",
       "    .dataframe tbody tr th {\n",
       "        vertical-align: top;\n",
       "    }\n",
       "\n",
       "    .dataframe thead th {\n",
       "        text-align: right;\n",
       "    }\n",
       "</style>\n",
       "<table border=\"1\" class=\"dataframe\">\n",
       "  <thead>\n",
       "    <tr style=\"text-align: right;\">\n",
       "      <th></th>\n",
       "      <th>창업 당시 창업자 실무경험 년수(년)</th>\n",
       "      <th>부서별_인력구성(생산)</th>\n",
       "      <th>부서별_인력구성(RnD)</th>\n",
       "      <th>총자산회전율</th>\n",
       "      <th>순이익률</th>\n",
       "      <th>이자보상배율</th>\n",
       "      <th>주력제품 국내 시장점유율(퍼센트)</th>\n",
       "      <th>주력제품 해외 시장점유율(퍼센트)</th>\n",
       "      <th>학력별 인력구성비(대졸)</th>\n",
       "    </tr>\n",
       "  </thead>\n",
       "  <tbody>\n",
       "    <tr>\n",
       "      <th>count</th>\n",
       "      <td>917.000000</td>\n",
       "      <td>917.000000</td>\n",
       "      <td>917.000000</td>\n",
       "      <td>917.000000</td>\n",
       "      <td>917.000000</td>\n",
       "      <td>917.000000</td>\n",
       "      <td>917.000000</td>\n",
       "      <td>917.000000</td>\n",
       "      <td>917.000000</td>\n",
       "    </tr>\n",
       "    <tr>\n",
       "      <th>mean</th>\n",
       "      <td>9.876009</td>\n",
       "      <td>27.111468</td>\n",
       "      <td>25.421239</td>\n",
       "      <td>0.953899</td>\n",
       "      <td>-73.110736</td>\n",
       "      <td>57.364661</td>\n",
       "      <td>15.450218</td>\n",
       "      <td>2.863075</td>\n",
       "      <td>54.359091</td>\n",
       "    </tr>\n",
       "    <tr>\n",
       "      <th>std</th>\n",
       "      <td>7.373762</td>\n",
       "      <td>24.427932</td>\n",
       "      <td>21.964548</td>\n",
       "      <td>1.100165</td>\n",
       "      <td>281.216658</td>\n",
       "      <td>335.941228</td>\n",
       "      <td>19.197304</td>\n",
       "      <td>8.046664</td>\n",
       "      <td>23.405698</td>\n",
       "    </tr>\n",
       "    <tr>\n",
       "      <th>min</th>\n",
       "      <td>0.000000</td>\n",
       "      <td>0.000000</td>\n",
       "      <td>0.000000</td>\n",
       "      <td>0.000000</td>\n",
       "      <td>-1739.260000</td>\n",
       "      <td>-366.500000</td>\n",
       "      <td>0.000000</td>\n",
       "      <td>0.000000</td>\n",
       "      <td>0.000000</td>\n",
       "    </tr>\n",
       "    <tr>\n",
       "      <th>25%</th>\n",
       "      <td>4.000000</td>\n",
       "      <td>1.316000</td>\n",
       "      <td>8.955000</td>\n",
       "      <td>0.452680</td>\n",
       "      <td>-20.984000</td>\n",
       "      <td>-7.854550</td>\n",
       "      <td>2.000000</td>\n",
       "      <td>0.000000</td>\n",
       "      <td>37.500000</td>\n",
       "    </tr>\n",
       "    <tr>\n",
       "      <th>50%</th>\n",
       "      <td>10.000000</td>\n",
       "      <td>22.222000</td>\n",
       "      <td>18.657000</td>\n",
       "      <td>0.747090</td>\n",
       "      <td>1.106000</td>\n",
       "      <td>1.368800</td>\n",
       "      <td>8.000000</td>\n",
       "      <td>0.010000</td>\n",
       "      <td>53.000000</td>\n",
       "    </tr>\n",
       "    <tr>\n",
       "      <th>75%</th>\n",
       "      <td>15.000000</td>\n",
       "      <td>48.718000</td>\n",
       "      <td>38.095000</td>\n",
       "      <td>1.194630</td>\n",
       "      <td>6.530000</td>\n",
       "      <td>7.409090</td>\n",
       "      <td>20.000000</td>\n",
       "      <td>1.000000</td>\n",
       "      <td>71.000000</td>\n",
       "    </tr>\n",
       "    <tr>\n",
       "      <th>max</th>\n",
       "      <td>35.000000</td>\n",
       "      <td>96.296000</td>\n",
       "      <td>100.000000</td>\n",
       "      <td>18.687240</td>\n",
       "      <td>175.477000</td>\n",
       "      <td>1476.000000</td>\n",
       "      <td>100.000000</td>\n",
       "      <td>80.000000</td>\n",
       "      <td>100.000000</td>\n",
       "    </tr>\n",
       "  </tbody>\n",
       "</table>\n",
       "</div>"
      ],
      "text/plain": [
       "       창업 당시 창업자 실무경험 년수(년)  부서별_인력구성(생산)  부서별_인력구성(RnD)      총자산회전율  \\\n",
       "count            917.000000    917.000000     917.000000  917.000000   \n",
       "mean               9.876009     27.111468      25.421239    0.953899   \n",
       "std                7.373762     24.427932      21.964548    1.100165   \n",
       "min                0.000000      0.000000       0.000000    0.000000   \n",
       "25%                4.000000      1.316000       8.955000    0.452680   \n",
       "50%               10.000000     22.222000      18.657000    0.747090   \n",
       "75%               15.000000     48.718000      38.095000    1.194630   \n",
       "max               35.000000     96.296000     100.000000   18.687240   \n",
       "\n",
       "              순이익률       이자보상배율  주력제품 국내 시장점유율(퍼센트)  주력제품 해외 시장점유율(퍼센트)  \\\n",
       "count   917.000000   917.000000          917.000000          917.000000   \n",
       "mean    -73.110736    57.364661           15.450218            2.863075   \n",
       "std     281.216658   335.941228           19.197304            8.046664   \n",
       "min   -1739.260000  -366.500000            0.000000            0.000000   \n",
       "25%     -20.984000    -7.854550            2.000000            0.000000   \n",
       "50%       1.106000     1.368800            8.000000            0.010000   \n",
       "75%       6.530000     7.409090           20.000000            1.000000   \n",
       "max     175.477000  1476.000000          100.000000           80.000000   \n",
       "\n",
       "       학력별 인력구성비(대졸)  \n",
       "count     917.000000  \n",
       "mean       54.359091  \n",
       "std        23.405698  \n",
       "min         0.000000  \n",
       "25%        37.500000  \n",
       "50%        53.000000  \n",
       "75%        71.000000  \n",
       "max       100.000000  "
      ]
     },
     "execution_count": 84,
     "metadata": {},
     "output_type": "execute_result"
    }
   ],
   "source": [
    "df_1.iloc[:,:-1].describe()"
   ]
  },
  {
   "attachments": {},
   "cell_type": "markdown",
   "metadata": {},
   "source": [
    "### 범주형 변수"
   ]
  },
  {
   "cell_type": "code",
   "execution_count": 63,
   "metadata": {},
   "outputs": [],
   "source": [
    "import pandas as pd\n",
    "\n",
    "def calculate_value_counts_ratio(df, column):\n",
    "    x = df[df[\"벤처캐피털(투자조합포함) 투자 경험여부\"] == 1]\n",
    "    y = df[df[\"벤처캐피털(투자조합포함) 투자 경험여부\"] == 0]\n",
    "    value_counts_x = x[column].value_counts()\n",
    "    value_counts_y = y[column].value_counts()\n",
    "    value_counts_ratio_x = value_counts_x / value_counts_x.sum() * 100\n",
    "    value_counts_ratio_y = value_counts_y / value_counts_y.sum() * 100\n",
    "    return value_counts_ratio_x, value_counts_ratio_y"
   ]
  },
  {
   "attachments": {},
   "cell_type": "markdown",
   "metadata": {},
   "source": [
    "'엔젤투자자 혹은 액셀러레이터 투자 경험여부', '창업 직전 근무지', '해외수출 및 진출과정 애로사항', '창업 당시 목표시장'"
   ]
  },
  {
   "cell_type": "code",
   "execution_count": 97,
   "metadata": {},
   "outputs": [
    {
     "name": "stdout",
     "output_type": "stream",
     "text": [
      "(0    78.735005\n",
      "1    21.264995\n",
      "Name: 엔젤투자자 혹은 액셀러레이터 투자 경험여부, dtype: float64, 0    97.915758\n",
      "1     2.084242\n",
      "Name: 엔젤투자자 혹은 액셀러레이터 투자 경험여부, dtype: float64)\n"
     ]
    }
   ],
   "source": [
    "# 함수 사용 예시\n",
    "column_name = '엔젤투자자 혹은 액셀러레이터 투자 경험여부'\n",
    "result = calculate_value_counts_ratio(df, column_name)\n",
    "\n",
    "# 결과 출력\n",
    "print(result)"
   ]
  },
  {
   "cell_type": "code",
   "execution_count": 98,
   "metadata": {},
   "outputs": [
    {
     "name": "stdout",
     "output_type": "stream",
     "text": [
      "(6     40.894220\n",
      "5     30.861505\n",
      "7      6.215921\n",
      "1      5.343511\n",
      "4      4.798255\n",
      "3      4.471101\n",
      "10     3.816794\n",
      "2      1.417666\n",
      "9      1.308615\n",
      "8      0.872410\n",
      "Name: 창업 직전 근무지, dtype: float64, 6     62.038894\n",
      "5     20.345339\n",
      "7      5.729485\n",
      "10     2.895265\n",
      "3      1.927270\n",
      "4      1.770297\n",
      "9      1.752856\n",
      "1      1.630767\n",
      "8      1.404029\n",
      "2      0.505799\n",
      "Name: 창업 직전 근무지, dtype: float64)\n"
     ]
    }
   ],
   "source": [
    "# 함수 사용 예시\n",
    "column_name = '창업 직전 근무지'\n",
    "result = calculate_value_counts_ratio(df, column_name)\n",
    "\n",
    "# 결과 출력\n",
    "print(result)"
   ]
  },
  {
   "cell_type": "code",
   "execution_count": 99,
   "metadata": {},
   "outputs": [
    {
     "name": "stdout",
     "output_type": "stream",
     "text": [
      "(3.0    21.919302\n",
      "2.0    18.974918\n",
      "4.0    18.974918\n",
      "7.0    13.631407\n",
      "5.0    10.687023\n",
      "1.0     6.870229\n",
      "8.0     4.907306\n",
      "6.0     4.034896\n",
      "Name: 해외수출 및 진출과정 애로사항, dtype: float64, 3.0    26.109706\n",
      "2.0    20.336618\n",
      "4.0    16.516962\n",
      "1.0    12.575216\n",
      "5.0     9.662510\n",
      "7.0     7.386413\n",
      "8.0     4.691724\n",
      "6.0     2.720851\n",
      "Name: 해외수출 및 진출과정 애로사항, dtype: float64)\n"
     ]
    }
   ],
   "source": [
    "# 함수 사용 예시\n",
    "column_name = '해외수출 및 진출과정 애로사항'\n",
    "result = calculate_value_counts_ratio(df, column_name)\n",
    "\n",
    "# 결과 출력\n",
    "print(result)"
   ]
  },
  {
   "cell_type": "code",
   "execution_count": 100,
   "metadata": {},
   "outputs": [
    {
     "name": "stdout",
     "output_type": "stream",
     "text": [
      "(3.0    62.268266\n",
      "1.0    34.678299\n",
      "2.0     3.053435\n",
      "Name: 창업 당시 목표시장, dtype: float64, 1.0    49.707857\n",
      "3.0    49.376472\n",
      "2.0     0.915671\n",
      "Name: 창업 당시 목표시장, dtype: float64)\n"
     ]
    }
   ],
   "source": [
    "# 함수 사용 예시\n",
    "column_name = '창업 당시 목표시장'\n",
    "result = calculate_value_counts_ratio(df, column_name)\n",
    "\n",
    "# 결과 출력\n",
    "print(result)"
   ]
  },
  {
   "attachments": {},
   "cell_type": "markdown",
   "metadata": {},
   "source": [
    "---"
   ]
  },
  {
   "cell_type": "code",
   "execution_count": 25,
   "metadata": {},
   "outputs": [
    {
     "name": "stdout",
     "output_type": "stream",
     "text": [
      "0    722\n",
      "1    195\n",
      "Name: 엔젤투자자 혹은 액셀러레이터 투자 경험여부, dtype: int64\n",
      "0    11228\n",
      "1      239\n",
      "Name: 엔젤투자자 혹은 액셀러레이터 투자 경험여부, dtype: int64\n"
     ]
    }
   ],
   "source": [
    "print(x['엔젤투자자 혹은 액셀러레이터 투자 경험여부'].value_counts())\n",
    "print(y['엔젤투자자 혹은 액셀러레이터 투자 경험여부'].value_counts())"
   ]
  },
  {
   "cell_type": "code",
   "execution_count": 26,
   "metadata": {},
   "outputs": [
    {
     "name": "stdout",
     "output_type": "stream",
     "text": [
      "3.0    571\n",
      "1.0    318\n",
      "2.0     28\n",
      "Name: 창업 당시 목표시장, dtype: int64\n",
      "1.0    5700\n",
      "3.0    5662\n",
      "2.0     105\n",
      "Name: 창업 당시 목표시장, dtype: int64\n"
     ]
    }
   ],
   "source": [
    "print(x['창업 당시 목표시장'].value_counts())\n",
    "print(y['창업 당시 목표시장'].value_counts())"
   ]
  },
  {
   "cell_type": "code",
   "execution_count": 30,
   "metadata": {},
   "outputs": [
    {
     "name": "stdout",
     "output_type": "stream",
     "text": [
      "6     0.408942\n",
      "5     0.308615\n",
      "7     0.062159\n",
      "1     0.053435\n",
      "4     0.047983\n",
      "3     0.044711\n",
      "10    0.038168\n",
      "2     0.014177\n",
      "9     0.013086\n",
      "8     0.008724\n",
      "Name: 창업 직전 근무지, dtype: float64\n",
      "6     0.620389\n",
      "5     0.203453\n",
      "7     0.057295\n",
      "10    0.028953\n",
      "3     0.019273\n",
      "4     0.017703\n",
      "9     0.017529\n",
      "1     0.016308\n",
      "8     0.014040\n",
      "2     0.005058\n",
      "Name: 창업 직전 근무지, dtype: float64\n"
     ]
    }
   ],
   "source": [
    "label_counts_x = x['창업 직전 근무지'].value_counts()\n",
    "label_ratios_x = label_counts_x / label_counts_x.sum()\n",
    "print(label_ratios_x)\n",
    "\n",
    "label_counts_y = y['창업 직전 근무지'].value_counts()\n",
    "label_ratios_y = label_counts_y / label_counts_y.sum()\n",
    "print(label_ratios_y)"
   ]
  },
  {
   "cell_type": "code",
   "execution_count": 31,
   "metadata": {},
   "outputs": [
    {
     "name": "stdout",
     "output_type": "stream",
     "text": [
      "3.0    0.219193\n",
      "2.0    0.189749\n",
      "4.0    0.189749\n",
      "7.0    0.136314\n",
      "5.0    0.106870\n",
      "1.0    0.068702\n",
      "8.0    0.049073\n",
      "6.0    0.040349\n",
      "Name: 해외수출 및 진출과정 애로사항, dtype: float64\n",
      "3.0    0.261097\n",
      "2.0    0.203366\n",
      "4.0    0.165170\n",
      "1.0    0.125752\n",
      "5.0    0.096625\n",
      "7.0    0.073864\n",
      "8.0    0.046917\n",
      "6.0    0.027209\n",
      "Name: 해외수출 및 진출과정 애로사항, dtype: float64\n"
     ]
    }
   ],
   "source": [
    "label_counts_x = x['해외수출 및 진출과정 애로사항'].value_counts()\n",
    "label_ratios_x = label_counts_x / label_counts_x.sum()\n",
    "print(label_ratios_x)\n",
    "\n",
    "label_counts_y = y['해외수출 및 진출과정 애로사항'].value_counts()\n",
    "label_ratios_y = label_counts_y / label_counts_y.sum()\n",
    "print(label_ratios_y)"
   ]
  },
  {
   "cell_type": "code",
   "execution_count": null,
   "metadata": {},
   "outputs": [],
   "source": [
    "\"1\n",
    "(기술력 부족)\"\t\"2\n",
    "(무역 전문인력부족)\"\t\"3\n",
    "(시장 정보 부족)\"\t\"4\n",
    "(해외진출\n",
    "필요자금의 부족)\"\t\"5\n",
    "(수출관련\n",
    "절차적 규제 부담)\"\t\"6\n",
    "(언어 장벽)\"\t\"7\n",
    "(현지시장 규격\n",
    "및 인증 획득의\n",
    "어려움)\"\t\"8\n",
    "(기업 신인도 부족)\""
   ]
  }
 ],
 "metadata": {
  "kernelspec": {
   "display_name": "Python 3",
   "language": "python",
   "name": "python3"
  },
  "language_info": {
   "codemirror_mode": {
    "name": "ipython",
    "version": 3
   },
   "file_extension": ".py",
   "mimetype": "text/x-python",
   "name": "python",
   "nbconvert_exporter": "python",
   "pygments_lexer": "ipython3",
   "version": "3.10.9"
  },
  "orig_nbformat": 4
 },
 "nbformat": 4,
 "nbformat_minor": 2
}
