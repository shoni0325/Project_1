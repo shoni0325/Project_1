{
 "cells": [
  {
   "cell_type": "code",
   "execution_count": 1,
   "metadata": {},
   "outputs": [],
   "source": [
    "import pandas as pd"
   ]
  },
  {
   "cell_type": "code",
   "execution_count": 10,
   "metadata": {},
   "outputs": [
    {
     "name": "stderr",
     "output_type": "stream",
     "text": [
      "C:\\Users\\shoni\\AppData\\Local\\Temp\\ipykernel_21596\\3442618651.py:1: DtypeWarning: Columns (60,135,242,245,248,251,257,260,274,278,280,282,284) have mixed types. Specify dtype option on import or set low_memory=False.\n",
      "  df = pd.read_csv('C:/apps/Project_1/중소벤처기업부_벤처기업정밀실태조사보고서 (벤처기업협회)_20211231/2021년 벤처기업정밀실태조사(수정).csv', encoding='cp949')\n"
     ]
    }
   ],
   "source": [
    "df = pd.read_csv('C:/apps/Project_1/중소벤처기업부_벤처기업정밀실태조사보고서 (벤처기업협회)_20211231/2021년 벤처기업정밀실태조사(수정).csv', encoding='cp949')"
   ]
  },
  {
   "cell_type": "code",
   "execution_count": 11,
   "metadata": {},
   "outputs": [
    {
     "data": {
      "text/plain": [
       "Index(['idx(번호)', '개인 _ 법인', 'ID(아이디)', '가중치', '업종(10대구분)', '업종(25대구분)',\n",
       "       '규모 (쿼터) 규모', 'A1_4 벤처확인 유형', 'A1_5_1 회사주소_시(도)', 'A1_5_2 회사주소_구(군)',\n",
       "       ...\n",
       "       'K4_9 경영상 애로사항_ (법률회계세무 관련 지식 부족 애로)', 'K4_10 경영상 애로사항_ (조직관리 애로)',\n",
       "       'K4_11 경영상 애로사항_ (환율 변동 애로)', 'K4_12 경영상 애로사항_ (특허 분쟁 애로)',\n",
       "       'K4_13 경영상 애로사항_ (각종 규제 애로)', 'K4_14 경영상 애로사항_ (산학연 간 협력 활동 애로)',\n",
       "       'K4_15 경영상 애로사항_ (불공정한 시장질서 애로)', 'K5_1 업종관련 애로사항', 'K5_2 경영 애로사항',\n",
       "       'K5_3 정책 건의사항'],\n",
       "      dtype='object', length=385)"
      ]
     },
     "execution_count": 11,
     "metadata": {},
     "output_type": "execute_result"
    }
   ],
   "source": [
    "\n",
    "df.columns"
   ]
  },
  {
   "cell_type": "code",
   "execution_count": null,
   "metadata": {},
   "outputs": [],
   "source": []
  }
 ],
 "metadata": {
  "kernelspec": {
   "display_name": "Python 3",
   "language": "python",
   "name": "python3"
  },
  "language_info": {
   "codemirror_mode": {
    "name": "ipython",
    "version": 3
   },
   "file_extension": ".py",
   "mimetype": "text/x-python",
   "name": "python",
   "nbconvert_exporter": "python",
   "pygments_lexer": "ipython3",
   "version": "3.10.9"
  },
  "orig_nbformat": 4
 },
 "nbformat": 4,
 "nbformat_minor": 2
}
