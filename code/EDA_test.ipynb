{
 "cells": [
  {
   "cell_type": "code",
   "execution_count": 2,
   "metadata": {},
   "outputs": [],
   "source": [
    "import sweetviz as sv\n",
    "import pandas as pd\n",
    "import warnings\n",
    "warnings.filterwarnings('ignore')"
   ]
  },
  {
   "cell_type": "code",
   "execution_count": 3,
   "metadata": {},
   "outputs": [],
   "source": [
    "data = pd.read_csv('../data/pre_/data.csv')"
   ]
  },
  {
   "cell_type": "code",
   "execution_count": 5,
   "metadata": {},
   "outputs": [
    {
     "ename": "AttributeError",
     "evalue": "'DataFrame' object has no attribute 'iteritems'",
     "output_type": "error",
     "traceback": [
      "\u001b[1;31m---------------------------------------------------------------------------\u001b[0m",
      "\u001b[1;31mAttributeError\u001b[0m                            Traceback (most recent call last)",
      "Cell \u001b[1;32mIn[5], line 1\u001b[0m\n\u001b[1;32m----> 1\u001b[0m report \u001b[39m=\u001b[39m sv\u001b[39m.\u001b[39;49manalyze(data, target_feat\u001b[39m=\u001b[39;49m\u001b[39m\"\u001b[39;49m\u001b[39m벤처캐피털(투자조합포함) 투자 경험여부\u001b[39;49m\u001b[39m\"\u001b[39;49m)\n\u001b[0;32m      2\u001b[0m report\u001b[39m.\u001b[39mshow_html()\n",
      "File \u001b[1;32mc:\\Users\\shoni\\AppData\\Local\\Programs\\Python\\Python310\\lib\\site-packages\\sweetviz\\sv_public.py:12\u001b[0m, in \u001b[0;36manalyze\u001b[1;34m(source, target_feat, feat_cfg, pairwise_analysis)\u001b[0m\n\u001b[0;32m      8\u001b[0m \u001b[39mdef\u001b[39;00m \u001b[39manalyze\u001b[39m(source: Union[pd\u001b[39m.\u001b[39mDataFrame, Tuple[pd\u001b[39m.\u001b[39mDataFrame, \u001b[39mstr\u001b[39m]],\n\u001b[0;32m      9\u001b[0m             target_feat: \u001b[39mstr\u001b[39m \u001b[39m=\u001b[39m \u001b[39mNone\u001b[39;00m,\n\u001b[0;32m     10\u001b[0m             feat_cfg: FeatureConfig \u001b[39m=\u001b[39m \u001b[39mNone\u001b[39;00m,\n\u001b[0;32m     11\u001b[0m             pairwise_analysis: \u001b[39mstr\u001b[39m \u001b[39m=\u001b[39m \u001b[39m'\u001b[39m\u001b[39mauto\u001b[39m\u001b[39m'\u001b[39m):\n\u001b[1;32m---> 12\u001b[0m     report \u001b[39m=\u001b[39m sweetviz\u001b[39m.\u001b[39;49mDataframeReport(source, target_feat, \u001b[39mNone\u001b[39;49;00m,\n\u001b[0;32m     13\u001b[0m                                       pairwise_analysis, feat_cfg)\n\u001b[0;32m     14\u001b[0m     \u001b[39mreturn\u001b[39;00m report\n",
      "File \u001b[1;32mc:\\Users\\shoni\\AppData\\Local\\Programs\\Python\\Python310\\lib\\site-packages\\sweetviz\\dataframe_report.py:74\u001b[0m, in \u001b[0;36mDataframeReport.__init__\u001b[1;34m(self, source, target_feature_name, compare, pairwise_analysis, fc)\u001b[0m\n\u001b[0;32m     71\u001b[0m     \u001b[39mif\u001b[39;00m target_feature_name \u001b[39m==\u001b[39m \u001b[39m'\u001b[39m\u001b[39mindex\u001b[39m\u001b[39m'\u001b[39m:\n\u001b[0;32m     72\u001b[0m         target_feature_name \u001b[39m=\u001b[39m \u001b[39m'\u001b[39m\u001b[39mdf_index\u001b[39m\u001b[39m'\u001b[39m\n\u001b[1;32m---> 74\u001b[0m all_source_names \u001b[39m=\u001b[39m [cur_name \u001b[39mfor\u001b[39;00m cur_name, cur_series \u001b[39min\u001b[39;00m source_df\u001b[39m.\u001b[39;49miteritems()]\n\u001b[0;32m     75\u001b[0m \u001b[39mif\u001b[39;00m compare \u001b[39mis\u001b[39;00m \u001b[39mNone\u001b[39;00m:\n\u001b[0;32m     76\u001b[0m     compare_df \u001b[39m=\u001b[39m \u001b[39mNone\u001b[39;00m\n",
      "File \u001b[1;32mc:\\Users\\shoni\\AppData\\Local\\Programs\\Python\\Python310\\lib\\site-packages\\pandas\\core\\generic.py:5989\u001b[0m, in \u001b[0;36m__getattr__\u001b[1;34m(self, name)\u001b[0m\n\u001b[0;32m   5982\u001b[0m \u001b[39m@final\u001b[39m\n\u001b[0;32m   5983\u001b[0m \u001b[39mdef\u001b[39;00m \u001b[39m_consolidate\u001b[39m(\u001b[39mself\u001b[39m):\n\u001b[0;32m   5984\u001b[0m \u001b[39m    \u001b[39m\u001b[39m\"\"\"\u001b[39;00m\n\u001b[0;32m   5985\u001b[0m \u001b[39m    Compute NDFrame with \"consolidated\" internals (data of each dtype\u001b[39;00m\n\u001b[0;32m   5986\u001b[0m \u001b[39m    grouped together in a single ndarray).\u001b[39;00m\n\u001b[0;32m   5987\u001b[0m \n\u001b[0;32m   5988\u001b[0m \u001b[39m    Returns\u001b[39;00m\n\u001b[1;32m-> 5989\u001b[0m \u001b[39m    -------\u001b[39;00m\n\u001b[0;32m   5990\u001b[0m \u001b[39m    consolidated : same type as caller\u001b[39;00m\n\u001b[0;32m   5991\u001b[0m \u001b[39m    \"\"\"\u001b[39;00m\n\u001b[0;32m   5992\u001b[0m     f \u001b[39m=\u001b[39m \u001b[39mlambda\u001b[39;00m: \u001b[39mself\u001b[39m\u001b[39m.\u001b[39m_mgr\u001b[39m.\u001b[39mconsolidate()\n\u001b[0;32m   5993\u001b[0m     cons_data \u001b[39m=\u001b[39m \u001b[39mself\u001b[39m\u001b[39m.\u001b[39m_protect_consolidate(f)\n",
      "\u001b[1;31mAttributeError\u001b[0m: 'DataFrame' object has no attribute 'iteritems'"
     ]
    }
   ],
   "source": [
    "report = sv.analyze(data, target_feat=\"벤처캐피털(투자조합포함) 투자 경험여부\")\n",
    "report.show_html()"
   ]
  }
 ],
 "metadata": {
  "kernelspec": {
   "display_name": "Python 3",
   "language": "python",
   "name": "python3"
  },
  "language_info": {
   "codemirror_mode": {
    "name": "ipython",
    "version": 3
   },
   "file_extension": ".py",
   "mimetype": "text/x-python",
   "name": "python",
   "nbconvert_exporter": "python",
   "pygments_lexer": "ipython3",
   "version": "3.10.9"
  },
  "orig_nbformat": 4
 },
 "nbformat": 4,
 "nbformat_minor": 2
}
