{
 "cells": [
  {
   "cell_type": "code",
   "execution_count": 1,
   "metadata": {},
   "outputs": [],
   "source": [
    "import pandas as pd\n",
    "import warnings\n",
    "warnings.filterwarnings('ignore')\n",
    "import matplotlib.pyplot as plt\n",
    "plt.rc('font', family='Malgun Gothic')\n",
    "plt.rcParams['axes.unicode_minus'] = False"
   ]
  },
  {
   "cell_type": "code",
   "execution_count": 2,
   "metadata": {},
   "outputs": [
    {
     "data": {
      "text/html": [
       "<div>\n",
       "<style scoped>\n",
       "    .dataframe tbody tr th:only-of-type {\n",
       "        vertical-align: middle;\n",
       "    }\n",
       "\n",
       "    .dataframe tbody tr th {\n",
       "        vertical-align: top;\n",
       "    }\n",
       "\n",
       "    .dataframe thead th {\n",
       "        text-align: right;\n",
       "    }\n",
       "</style>\n",
       "<table border=\"1\" class=\"dataframe\">\n",
       "  <thead>\n",
       "    <tr style=\"text-align: right;\">\n",
       "      <th></th>\n",
       "      <th>주력제품 해외 시장점유율(퍼센트)</th>\n",
       "      <th>주력제품 국내 시장점유율(퍼센트)</th>\n",
       "      <th>매출구조비율(중소기업)</th>\n",
       "      <th>매출구조비율(글로벌)</th>\n",
       "      <th>총자산회전율</th>\n",
       "      <th>자기자본비율</th>\n",
       "      <th>부채비율</th>\n",
       "      <th>순이익률</th>\n",
       "      <th>등록보유(특허권)</th>\n",
       "      <th>창업 당시 창업자 최종학력</th>\n",
       "      <th>창업 당시 목표시장</th>\n",
       "      <th>기업성장단계</th>\n",
       "      <th>해외수출 및 진출과정 애로사항</th>\n",
       "      <th>Exit</th>\n",
       "    </tr>\n",
       "  </thead>\n",
       "  <tbody>\n",
       "    <tr>\n",
       "      <th>0</th>\n",
       "      <td>0.0</td>\n",
       "      <td>1.00</td>\n",
       "      <td>10.0</td>\n",
       "      <td>0.0</td>\n",
       "      <td>0.056</td>\n",
       "      <td>-9.113</td>\n",
       "      <td>-1197.317</td>\n",
       "      <td>-1739.260</td>\n",
       "      <td>2</td>\n",
       "      <td>3</td>\n",
       "      <td>1</td>\n",
       "      <td>2</td>\n",
       "      <td>2</td>\n",
       "      <td>0</td>\n",
       "    </tr>\n",
       "    <tr>\n",
       "      <th>1</th>\n",
       "      <td>0.0</td>\n",
       "      <td>1.00</td>\n",
       "      <td>100.0</td>\n",
       "      <td>0.0</td>\n",
       "      <td>182.613</td>\n",
       "      <td>27.306</td>\n",
       "      <td>266.224</td>\n",
       "      <td>3.063</td>\n",
       "      <td>5</td>\n",
       "      <td>4</td>\n",
       "      <td>1</td>\n",
       "      <td>4</td>\n",
       "      <td>8</td>\n",
       "      <td>0</td>\n",
       "    </tr>\n",
       "    <tr>\n",
       "      <th>2</th>\n",
       "      <td>0.0</td>\n",
       "      <td>10.00</td>\n",
       "      <td>10.0</td>\n",
       "      <td>0.0</td>\n",
       "      <td>47.157</td>\n",
       "      <td>67.238</td>\n",
       "      <td>48.726</td>\n",
       "      <td>8.065</td>\n",
       "      <td>15</td>\n",
       "      <td>2</td>\n",
       "      <td>1</td>\n",
       "      <td>4</td>\n",
       "      <td>4</td>\n",
       "      <td>0</td>\n",
       "    </tr>\n",
       "    <tr>\n",
       "      <th>3</th>\n",
       "      <td>5.0</td>\n",
       "      <td>30.00</td>\n",
       "      <td>30.0</td>\n",
       "      <td>30.0</td>\n",
       "      <td>55.927</td>\n",
       "      <td>24.734</td>\n",
       "      <td>304.309</td>\n",
       "      <td>-6.119</td>\n",
       "      <td>0</td>\n",
       "      <td>2</td>\n",
       "      <td>3</td>\n",
       "      <td>3</td>\n",
       "      <td>3</td>\n",
       "      <td>1</td>\n",
       "    </tr>\n",
       "    <tr>\n",
       "      <th>4</th>\n",
       "      <td>0.0</td>\n",
       "      <td>30.00</td>\n",
       "      <td>30.0</td>\n",
       "      <td>0.0</td>\n",
       "      <td>69.228</td>\n",
       "      <td>46.665</td>\n",
       "      <td>114.292</td>\n",
       "      <td>-11.386</td>\n",
       "      <td>0</td>\n",
       "      <td>2</td>\n",
       "      <td>3</td>\n",
       "      <td>3</td>\n",
       "      <td>2</td>\n",
       "      <td>1</td>\n",
       "    </tr>\n",
       "    <tr>\n",
       "      <th>...</th>\n",
       "      <td>...</td>\n",
       "      <td>...</td>\n",
       "      <td>...</td>\n",
       "      <td>...</td>\n",
       "      <td>...</td>\n",
       "      <td>...</td>\n",
       "      <td>...</td>\n",
       "      <td>...</td>\n",
       "      <td>...</td>\n",
       "      <td>...</td>\n",
       "      <td>...</td>\n",
       "      <td>...</td>\n",
       "      <td>...</td>\n",
       "      <td>...</td>\n",
       "    </tr>\n",
       "    <tr>\n",
       "      <th>10781</th>\n",
       "      <td>0.0</td>\n",
       "      <td>0.01</td>\n",
       "      <td>100.0</td>\n",
       "      <td>0.0</td>\n",
       "      <td>78.543</td>\n",
       "      <td>34.503</td>\n",
       "      <td>189.827</td>\n",
       "      <td>-11.720</td>\n",
       "      <td>7</td>\n",
       "      <td>3</td>\n",
       "      <td>1</td>\n",
       "      <td>2</td>\n",
       "      <td>1</td>\n",
       "      <td>0</td>\n",
       "    </tr>\n",
       "    <tr>\n",
       "      <th>10782</th>\n",
       "      <td>0.0</td>\n",
       "      <td>15.00</td>\n",
       "      <td>20.0</td>\n",
       "      <td>0.0</td>\n",
       "      <td>603.905</td>\n",
       "      <td>38.300</td>\n",
       "      <td>161.096</td>\n",
       "      <td>2.822</td>\n",
       "      <td>1</td>\n",
       "      <td>3</td>\n",
       "      <td>3</td>\n",
       "      <td>3</td>\n",
       "      <td>2</td>\n",
       "      <td>0</td>\n",
       "    </tr>\n",
       "    <tr>\n",
       "      <th>10783</th>\n",
       "      <td>0.0</td>\n",
       "      <td>1.00</td>\n",
       "      <td>50.0</td>\n",
       "      <td>0.0</td>\n",
       "      <td>385.063</td>\n",
       "      <td>19.612</td>\n",
       "      <td>409.890</td>\n",
       "      <td>-0.801</td>\n",
       "      <td>0</td>\n",
       "      <td>3</td>\n",
       "      <td>1</td>\n",
       "      <td>2</td>\n",
       "      <td>5</td>\n",
       "      <td>1</td>\n",
       "    </tr>\n",
       "    <tr>\n",
       "      <th>10784</th>\n",
       "      <td>0.0</td>\n",
       "      <td>5.00</td>\n",
       "      <td>0.0</td>\n",
       "      <td>0.0</td>\n",
       "      <td>511.376</td>\n",
       "      <td>29.754</td>\n",
       "      <td>236.092</td>\n",
       "      <td>2.205</td>\n",
       "      <td>0</td>\n",
       "      <td>3</td>\n",
       "      <td>1</td>\n",
       "      <td>3</td>\n",
       "      <td>2</td>\n",
       "      <td>1</td>\n",
       "    </tr>\n",
       "    <tr>\n",
       "      <th>10785</th>\n",
       "      <td>0.0</td>\n",
       "      <td>15.00</td>\n",
       "      <td>60.0</td>\n",
       "      <td>0.0</td>\n",
       "      <td>385.063</td>\n",
       "      <td>19.612</td>\n",
       "      <td>409.890</td>\n",
       "      <td>-0.801</td>\n",
       "      <td>0</td>\n",
       "      <td>3</td>\n",
       "      <td>1</td>\n",
       "      <td>3</td>\n",
       "      <td>7</td>\n",
       "      <td>1</td>\n",
       "    </tr>\n",
       "  </tbody>\n",
       "</table>\n",
       "<p>10786 rows × 14 columns</p>\n",
       "</div>"
      ],
      "text/plain": [
       "       주력제품 해외 시장점유율(퍼센트)  주력제품 국내 시장점유율(퍼센트)  매출구조비율(중소기업)  매출구조비율(글로벌)  \\\n",
       "0                     0.0                1.00          10.0          0.0   \n",
       "1                     0.0                1.00         100.0          0.0   \n",
       "2                     0.0               10.00          10.0          0.0   \n",
       "3                     5.0               30.00          30.0         30.0   \n",
       "4                     0.0               30.00          30.0          0.0   \n",
       "...                   ...                 ...           ...          ...   \n",
       "10781                 0.0                0.01         100.0          0.0   \n",
       "10782                 0.0               15.00          20.0          0.0   \n",
       "10783                 0.0                1.00          50.0          0.0   \n",
       "10784                 0.0                5.00           0.0          0.0   \n",
       "10785                 0.0               15.00          60.0          0.0   \n",
       "\n",
       "        총자산회전율  자기자본비율      부채비율      순이익률  등록보유(특허권)  창업 당시 창업자 최종학력  \\\n",
       "0        0.056  -9.113 -1197.317 -1739.260          2               3   \n",
       "1      182.613  27.306   266.224     3.063          5               4   \n",
       "2       47.157  67.238    48.726     8.065         15               2   \n",
       "3       55.927  24.734   304.309    -6.119          0               2   \n",
       "4       69.228  46.665   114.292   -11.386          0               2   \n",
       "...        ...     ...       ...       ...        ...             ...   \n",
       "10781   78.543  34.503   189.827   -11.720          7               3   \n",
       "10782  603.905  38.300   161.096     2.822          1               3   \n",
       "10783  385.063  19.612   409.890    -0.801          0               3   \n",
       "10784  511.376  29.754   236.092     2.205          0               3   \n",
       "10785  385.063  19.612   409.890    -0.801          0               3   \n",
       "\n",
       "       창업 당시 목표시장  기업성장단계  해외수출 및 진출과정 애로사항  Exit  \n",
       "0               1       2                 2     0  \n",
       "1               1       4                 8     0  \n",
       "2               1       4                 4     0  \n",
       "3               3       3                 3     1  \n",
       "4               3       3                 2     1  \n",
       "...           ...     ...               ...   ...  \n",
       "10781           1       2                 1     0  \n",
       "10782           3       3                 2     0  \n",
       "10783           1       2                 5     1  \n",
       "10784           1       3                 2     1  \n",
       "10785           1       3                 7     1  \n",
       "\n",
       "[10786 rows x 14 columns]"
      ]
     },
     "execution_count": 2,
     "metadata": {},
     "output_type": "execute_result"
    }
   ],
   "source": [
    "df = pd.read_csv('../../data/VC/origin_anlysis_data.csv')\n",
    "df"
   ]
  },
  {
   "cell_type": "code",
   "execution_count": 3,
   "metadata": {},
   "outputs": [
    {
     "data": {
      "text/plain": [
       "Index(['주력제품 해외 시장점유율(퍼센트)', '주력제품 국내 시장점유율(퍼센트)', '매출구조비율(중소기업)',\n",
       "       '매출구조비율(글로벌)', '총자산회전율', '자기자본비율', '부채비율', '순이익률', '등록보유(특허권)',\n",
       "       '창업 당시 창업자 최종학력', '창업 당시 목표시장', '기업성장단계', '해외수출 및 진출과정 애로사항', 'Exit'],\n",
       "      dtype='object')"
      ]
     },
     "execution_count": 3,
     "metadata": {},
     "output_type": "execute_result"
    }
   ],
   "source": [
    "df.columns"
   ]
  },
  {
   "cell_type": "code",
   "execution_count": 4,
   "metadata": {},
   "outputs": [],
   "source": [
    "df['총자산회전율'] = df['총자산회전율'] / 100"
   ]
  },
  {
   "cell_type": "code",
   "execution_count": 22,
   "metadata": {},
   "outputs": [],
   "source": [
    "df_1 = df[df['Exit']==1]\n",
    "df_0 = df[df['Exit']==0]"
   ]
  },
  {
   "attachments": {},
   "cell_type": "markdown",
   "metadata": {},
   "source": [
    "* 범주형 변수\n",
    "    - '창업 당시 창업자 최종학력', '창업 당시 목표시장', '기업성장단계', '해외수출 및 진출과정 애로사항'\n",
    "\n",
    "* 수치형 변수\n",
    "    - '주력제품 해외 시장점유율(퍼센트)', '주력제품 국내 시장점유율(퍼센트)', '매출구조비율(중소기업)',\n",
    "       '매출구조비율(글로벌)', '총자산회전율', '자기자본비율', '부채비율', '순이익률', '등록보유(특허권)'"
   ]
  },
  {
   "attachments": {},
   "cell_type": "markdown",
   "metadata": {},
   "source": [
    "### 수치형 변수 중간값 기준 확인"
   ]
  },
  {
   "cell_type": "code",
   "execution_count": 7,
   "metadata": {},
   "outputs": [],
   "source": [
    "import pandas as pd\n",
    "\n",
    "def split_dataframe_by_median(df, column):\n",
    "    df1 = df.copy()\n",
    "    df1.sort_values(by=column, ascending=True, inplace=True)\n",
    "    median = df1[column].median()\n",
    "    data1 = df1[df1[column] <= median]\n",
    "    data2 = df1[df1[column] > median]\n",
    "    count1 = data1['Exit'].value_counts()\n",
    "    count2 = data2['Exit'].value_counts()\n",
    "\n",
    "    return data1, data2, count1, count2"
   ]
  },
  {
   "attachments": {},
   "cell_type": "markdown",
   "metadata": {},
   "source": [
    "> 주력제품 해외 시장점유율(퍼센트)"
   ]
  },
  {
   "cell_type": "code",
   "execution_count": 9,
   "metadata": {},
   "outputs": [
    {
     "name": "stdout",
     "output_type": "stream",
     "text": [
      "Data1 Value Counts:\n",
      " 0    6822\n",
      "1     467\n",
      "Name: Exit, dtype: int64\n",
      "Data2 Value Counts:\n",
      " 0    2806\n",
      "1     691\n",
      "Name: Exit, dtype: int64\n",
      "Data1의 1 비율 : 6.41%\n",
      "Data2의 1 비율 : 19.76%\n"
     ]
    }
   ],
   "source": [
    "# 함수 사용 예시\n",
    "df1 = df[['주력제품 해외 시장점유율(퍼센트)', 'Exit']]\n",
    "data1, data2, count1, count2 = split_dataframe_by_median(df1, '주력제품 해외 시장점유율(퍼센트)')\n",
    "target_rate1 = (len(data1[data1['Exit']==1])) / (data1['Exit'].value_counts().sum()) * 100\n",
    "target_rate2 = (len(data2[data2['Exit']==1])) / (data2['Exit'].value_counts().sum()) * 100\n",
    "\n",
    "# 결과 출력\n",
    "\n",
    "print(\"Data1 Value Counts:\\n\", count1)\n",
    "print(\"Data2 Value Counts:\\n\", count2)\n",
    "print(f\"Data1의 1 비율 : {target_rate1:.2f}%\")\n",
    "print(f\"Data2의 1 비율 : {target_rate2:.2f}%\")"
   ]
  },
  {
   "attachments": {},
   "cell_type": "markdown",
   "metadata": {},
   "source": [
    "> 주력제품 국내 시장점유율(퍼센트)"
   ]
  },
  {
   "cell_type": "code",
   "execution_count": 10,
   "metadata": {},
   "outputs": [
    {
     "name": "stdout",
     "output_type": "stream",
     "text": [
      "Data1 Value Counts:\n",
      " 0    5973\n",
      "1     527\n",
      "Name: Exit, dtype: int64\n",
      "Data2 Value Counts:\n",
      " 0    3655\n",
      "1     631\n",
      "Name: Exit, dtype: int64\n",
      "Data1의 1 비율 : 8.11%\n",
      "Data2의 1 비율 : 14.72%\n"
     ]
    }
   ],
   "source": [
    "# 함수 사용 예시\n",
    "df1 = df[['주력제품 국내 시장점유율(퍼센트)', 'Exit']]\n",
    "data1, data2, count1, count2 = split_dataframe_by_median(df1, '주력제품 국내 시장점유율(퍼센트)')\n",
    "target_rate1 = (len(data1[data1['Exit']==1])) / (data1['Exit'].value_counts().sum()) * 100\n",
    "target_rate2 = (len(data2[data2['Exit']==1])) / (data2['Exit'].value_counts().sum()) * 100\n",
    "\n",
    "# 결과 출력\n",
    "\n",
    "print(\"Data1 Value Counts:\\n\", count1)\n",
    "print(\"Data2 Value Counts:\\n\", count2)\n",
    "print(f\"Data1의 1 비율 : {target_rate1:.2f}%\")\n",
    "print(f\"Data2의 1 비율 : {target_rate2:.2f}%\")"
   ]
  },
  {
   "attachments": {},
   "cell_type": "markdown",
   "metadata": {},
   "source": [
    "> 매출구조비율(중소기업)"
   ]
  },
  {
   "cell_type": "code",
   "execution_count": 11,
   "metadata": {},
   "outputs": [
    {
     "name": "stdout",
     "output_type": "stream",
     "text": [
      "Data1 Value Counts:\n",
      " 0    4750\n",
      "1     648\n",
      "Name: Exit, dtype: int64\n",
      "Data2 Value Counts:\n",
      " 0    4878\n",
      "1     510\n",
      "Name: Exit, dtype: int64\n",
      "Data1의 1 비율 : 12.00%\n",
      "Data2의 1 비율 : 9.47%\n"
     ]
    }
   ],
   "source": [
    "# 함수 사용 예시\n",
    "df1 = df[['매출구조비율(중소기업)', 'Exit']]\n",
    "data1, data2, count1, count2 = split_dataframe_by_median(df1, '매출구조비율(중소기업)')\n",
    "target_rate1 = (len(data1[data1['Exit']==1])) / (data1['Exit'].value_counts().sum()) * 100\n",
    "target_rate2 = (len(data2[data2['Exit']==1])) / (data2['Exit'].value_counts().sum()) * 100\n",
    "\n",
    "# 결과 출력\n",
    "\n",
    "print(\"Data1 Value Counts:\\n\", count1)\n",
    "print(\"Data2 Value Counts:\\n\", count2)\n",
    "print(f\"Data1의 1 비율 : {target_rate1:.2f}%\")\n",
    "print(f\"Data2의 1 비율 : {target_rate2:.2f}%\")"
   ]
  },
  {
   "attachments": {},
   "cell_type": "markdown",
   "metadata": {},
   "source": [
    "> 매출구조비율(글로벌)"
   ]
  },
  {
   "cell_type": "code",
   "execution_count": 12,
   "metadata": {},
   "outputs": [
    {
     "name": "stdout",
     "output_type": "stream",
     "text": [
      "Data1 Value Counts:\n",
      " 0    6518\n",
      "1     575\n",
      "Name: Exit, dtype: int64\n",
      "Data2 Value Counts:\n",
      " 0    3110\n",
      "1     583\n",
      "Name: Exit, dtype: int64\n",
      "Data1의 1 비율 : 8.11%\n",
      "Data2의 1 비율 : 15.79%\n"
     ]
    }
   ],
   "source": [
    "# 함수 사용 예시\n",
    "df1 = df[['매출구조비율(글로벌)', 'Exit']]\n",
    "data1, data2, count1, count2 = split_dataframe_by_median(df1, '매출구조비율(글로벌)')\n",
    "target_rate1 = (len(data1[data1['Exit']==1])) / (data1['Exit'].value_counts().sum()) * 100\n",
    "target_rate2 = (len(data2[data2['Exit']==1])) / (data2['Exit'].value_counts().sum()) * 100\n",
    "\n",
    "# 결과 출력\n",
    "\n",
    "print(\"Data1 Value Counts:\\n\", count1)\n",
    "print(\"Data2 Value Counts:\\n\", count2)\n",
    "print(f\"Data1의 1 비율 : {target_rate1:.2f}%\")\n",
    "print(f\"Data2의 1 비율 : {target_rate2:.2f}%\")"
   ]
  },
  {
   "attachments": {},
   "cell_type": "markdown",
   "metadata": {},
   "source": [
    "> 총자산회전율"
   ]
  },
  {
   "cell_type": "code",
   "execution_count": 13,
   "metadata": {},
   "outputs": [
    {
     "name": "stdout",
     "output_type": "stream",
     "text": [
      "Data1 Value Counts:\n",
      " 0    4535\n",
      "1     858\n",
      "Name: Exit, dtype: int64\n",
      "Data2 Value Counts:\n",
      " 0    5093\n",
      "1     300\n",
      "Name: Exit, dtype: int64\n",
      "Data1의 1 비율 : 15.91%\n",
      "Data2의 1 비율 : 5.56%\n"
     ]
    }
   ],
   "source": [
    "# 함수 사용 예시\n",
    "df1 = df[['총자산회전율', 'Exit']]\n",
    "data1, data2, count1, count2 = split_dataframe_by_median(df1, '총자산회전율')\n",
    "target_rate1 = (len(data1[data1['Exit']==1])) / (data1['Exit'].value_counts().sum()) * 100\n",
    "target_rate2 = (len(data2[data2['Exit']==1])) / (data2['Exit'].value_counts().sum()) * 100\n",
    "\n",
    "# 결과 출력\n",
    "\n",
    "print(\"Data1 Value Counts:\\n\", count1)\n",
    "print(\"Data2 Value Counts:\\n\", count2)\n",
    "print(f\"Data1의 1 비율 : {target_rate1:.2f}%\")\n",
    "print(f\"Data2의 1 비율 : {target_rate2:.2f}%\")"
   ]
  },
  {
   "attachments": {},
   "cell_type": "markdown",
   "metadata": {},
   "source": [
    "> 자기자본비율"
   ]
  },
  {
   "cell_type": "code",
   "execution_count": 14,
   "metadata": {},
   "outputs": [
    {
     "name": "stdout",
     "output_type": "stream",
     "text": [
      "Data1 Value Counts:\n",
      " 0    5127\n",
      "1     266\n",
      "Name: Exit, dtype: int64\n",
      "Data2 Value Counts:\n",
      " 0    4501\n",
      "1     892\n",
      "Name: Exit, dtype: int64\n",
      "Data1의 1 비율 : 4.93%\n",
      "Data2의 1 비율 : 16.54%\n"
     ]
    }
   ],
   "source": [
    "# 함수 사용 예시\n",
    "df1 = df[['자기자본비율', 'Exit']]\n",
    "data1, data2, count1, count2 = split_dataframe_by_median(df1, '자기자본비율')\n",
    "target_rate1 = (len(data1[data1['Exit']==1])) / (data1['Exit'].value_counts().sum()) * 100\n",
    "target_rate2 = (len(data2[data2['Exit']==1])) / (data2['Exit'].value_counts().sum()) * 100\n",
    "\n",
    "# 결과 출력\n",
    "\n",
    "print(\"Data1 Value Counts:\\n\", count1)\n",
    "print(\"Data2 Value Counts:\\n\", count2)\n",
    "print(f\"Data1의 1 비율 : {target_rate1:.2f}%\")\n",
    "print(f\"Data2의 1 비율 : {target_rate2:.2f}%\")"
   ]
  },
  {
   "attachments": {},
   "cell_type": "markdown",
   "metadata": {},
   "source": [
    "> 부채비율"
   ]
  },
  {
   "cell_type": "code",
   "execution_count": 15,
   "metadata": {},
   "outputs": [
    {
     "name": "stdout",
     "output_type": "stream",
     "text": [
      "Data1 Value Counts:\n",
      " 0    4502\n",
      "1     891\n",
      "Name: Exit, dtype: int64\n",
      "Data2 Value Counts:\n",
      " 0    5126\n",
      "1     267\n",
      "Name: Exit, dtype: int64\n",
      "Data1의 1 비율 : 16.52%\n",
      "Data2의 1 비율 : 4.95%\n"
     ]
    }
   ],
   "source": [
    "# 함수 사용 예시\n",
    "df1 = df[['부채비율', 'Exit']]\n",
    "data1, data2, count1, count2 = split_dataframe_by_median(df1, '부채비율')\n",
    "target_rate1 = (len(data1[data1['Exit']==1])) / (data1['Exit'].value_counts().sum()) * 100\n",
    "target_rate2 = (len(data2[data2['Exit']==1])) / (data2['Exit'].value_counts().sum()) * 100\n",
    "\n",
    "# 결과 출력\n",
    "\n",
    "print(\"Data1 Value Counts:\\n\", count1)\n",
    "print(\"Data2 Value Counts:\\n\", count2)\n",
    "print(f\"Data1의 1 비율 : {target_rate1:.2f}%\")\n",
    "print(f\"Data2의 1 비율 : {target_rate2:.2f}%\")"
   ]
  },
  {
   "attachments": {},
   "cell_type": "markdown",
   "metadata": {},
   "source": [
    "> 순이익률"
   ]
  },
  {
   "cell_type": "code",
   "execution_count": 16,
   "metadata": {},
   "outputs": [
    {
     "name": "stdout",
     "output_type": "stream",
     "text": [
      "Data1 Value Counts:\n",
      " 0    4793\n",
      "1     600\n",
      "Name: Exit, dtype: int64\n",
      "Data2 Value Counts:\n",
      " 0    4835\n",
      "1     558\n",
      "Name: Exit, dtype: int64\n",
      "Data1의 1 비율 : 11.13%\n",
      "Data2의 1 비율 : 10.35%\n"
     ]
    }
   ],
   "source": [
    "# 함수 사용 예시\n",
    "df1 = df[['순이익률', 'Exit']]\n",
    "data1, data2, count1, count2 = split_dataframe_by_median(df1, '순이익률')\n",
    "target_rate1 = (len(data1[data1['Exit']==1])) / (data1['Exit'].value_counts().sum()) * 100\n",
    "target_rate2 = (len(data2[data2['Exit']==1])) / (data2['Exit'].value_counts().sum()) * 100\n",
    "\n",
    "# 결과 출력\n",
    "\n",
    "print(\"Data1 Value Counts:\\n\", count1)\n",
    "print(\"Data2 Value Counts:\\n\", count2)\n",
    "print(f\"Data1의 1 비율 : {target_rate1:.2f}%\")\n",
    "print(f\"Data2의 1 비율 : {target_rate2:.2f}%\")"
   ]
  },
  {
   "attachments": {},
   "cell_type": "markdown",
   "metadata": {},
   "source": [
    "> 등록보유(특허권)"
   ]
  },
  {
   "cell_type": "code",
   "execution_count": 17,
   "metadata": {},
   "outputs": [
    {
     "name": "stdout",
     "output_type": "stream",
     "text": [
      "Data1 Value Counts:\n",
      " 0    5275\n",
      "1     401\n",
      "Name: Exit, dtype: int64\n",
      "Data2 Value Counts:\n",
      " 0    4353\n",
      "1     757\n",
      "Name: Exit, dtype: int64\n",
      "Data1의 1 비율 : 7.06%\n",
      "Data2의 1 비율 : 14.81%\n"
     ]
    }
   ],
   "source": [
    "# 함수 사용 예시\n",
    "df1 = df[['등록보유(특허권)', 'Exit']]\n",
    "data1, data2, count1, count2 = split_dataframe_by_median(df1, '등록보유(특허권)')\n",
    "target_rate1 = (len(data1[data1['Exit']==1])) / (data1['Exit'].value_counts().sum()) * 100\n",
    "target_rate2 = (len(data2[data2['Exit']==1])) / (data2['Exit'].value_counts().sum()) * 100\n",
    "\n",
    "# 결과 출력\n",
    "\n",
    "print(\"Data1 Value Counts:\\n\", count1)\n",
    "print(\"Data2 Value Counts:\\n\", count2)\n",
    "print(f\"Data1의 1 비율 : {target_rate1:.2f}%\")\n",
    "print(f\"Data2의 1 비율 : {target_rate2:.2f}%\")"
   ]
  },
  {
   "attachments": {},
   "cell_type": "markdown",
   "metadata": {},
   "source": [
    "### 수치형 변수 평균값 차이"
   ]
  },
  {
   "cell_type": "code",
   "execution_count": 23,
   "metadata": {},
   "outputs": [],
   "source": [
    "df_1.drop(['창업 당시 창업자 최종학력', '창업 당시 목표시장', '기업성장단계', '해외수출 및 진출과정 애로사항'], axis=1, inplace=True)\n",
    "df_0.drop(['창업 당시 창업자 최종학력', '창업 당시 목표시장', '기업성장단계', '해외수출 및 진출과정 애로사항'], axis=1, inplace=True)"
   ]
  },
  {
   "cell_type": "code",
   "execution_count": 24,
   "metadata": {},
   "outputs": [
    {
     "data": {
      "text/html": [
       "<div>\n",
       "<style scoped>\n",
       "    .dataframe tbody tr th:only-of-type {\n",
       "        vertical-align: middle;\n",
       "    }\n",
       "\n",
       "    .dataframe tbody tr th {\n",
       "        vertical-align: top;\n",
       "    }\n",
       "\n",
       "    .dataframe thead th {\n",
       "        text-align: right;\n",
       "    }\n",
       "</style>\n",
       "<table border=\"1\" class=\"dataframe\">\n",
       "  <thead>\n",
       "    <tr style=\"text-align: right;\">\n",
       "      <th></th>\n",
       "      <th>주력제품 해외 시장점유율(퍼센트)</th>\n",
       "      <th>주력제품 국내 시장점유율(퍼센트)</th>\n",
       "      <th>매출구조비율(중소기업)</th>\n",
       "      <th>매출구조비율(글로벌)</th>\n",
       "      <th>총자산회전율</th>\n",
       "      <th>자기자본비율</th>\n",
       "      <th>부채비율</th>\n",
       "      <th>순이익률</th>\n",
       "      <th>등록보유(특허권)</th>\n",
       "    </tr>\n",
       "  </thead>\n",
       "  <tbody>\n",
       "    <tr>\n",
       "      <th>count</th>\n",
       "      <td>9628.000000</td>\n",
       "      <td>9628.000000</td>\n",
       "      <td>9628.000000</td>\n",
       "      <td>9628.000000</td>\n",
       "      <td>9628.000000</td>\n",
       "      <td>9628.000000</td>\n",
       "      <td>9628.000000</td>\n",
       "      <td>9628.000000</td>\n",
       "      <td>9628.000000</td>\n",
       "    </tr>\n",
       "    <tr>\n",
       "      <th>mean</th>\n",
       "      <td>0.828994</td>\n",
       "      <td>9.416934</td>\n",
       "      <td>38.503973</td>\n",
       "      <td>9.376821</td>\n",
       "      <td>1.345703</td>\n",
       "      <td>39.329786</td>\n",
       "      <td>255.338437</td>\n",
       "      <td>-10.655346</td>\n",
       "      <td>7.316369</td>\n",
       "    </tr>\n",
       "    <tr>\n",
       "      <th>std</th>\n",
       "      <td>4.657462</td>\n",
       "      <td>14.361033</td>\n",
       "      <td>37.881225</td>\n",
       "      <td>20.767284</td>\n",
       "      <td>1.310647</td>\n",
       "      <td>32.562173</td>\n",
       "      <td>935.430992</td>\n",
       "      <td>128.332992</td>\n",
       "      <td>18.460591</td>\n",
       "    </tr>\n",
       "    <tr>\n",
       "      <th>min</th>\n",
       "      <td>0.000000</td>\n",
       "      <td>0.000000</td>\n",
       "      <td>0.000000</td>\n",
       "      <td>0.000000</td>\n",
       "      <td>0.000000</td>\n",
       "      <td>-294.118000</td>\n",
       "      <td>-6045.455000</td>\n",
       "      <td>-1739.260000</td>\n",
       "      <td>0.000000</td>\n",
       "    </tr>\n",
       "    <tr>\n",
       "      <th>25%</th>\n",
       "      <td>0.000000</td>\n",
       "      <td>0.500000</td>\n",
       "      <td>0.000000</td>\n",
       "      <td>0.000000</td>\n",
       "      <td>0.699793</td>\n",
       "      <td>26.390500</td>\n",
       "      <td>70.090250</td>\n",
       "      <td>0.960750</td>\n",
       "      <td>1.000000</td>\n",
       "    </tr>\n",
       "    <tr>\n",
       "      <th>50%</th>\n",
       "      <td>0.000000</td>\n",
       "      <td>5.000000</td>\n",
       "      <td>30.000000</td>\n",
       "      <td>0.000000</td>\n",
       "      <td>1.067970</td>\n",
       "      <td>38.823000</td>\n",
       "      <td>147.285000</td>\n",
       "      <td>3.294000</td>\n",
       "      <td>3.000000</td>\n",
       "    </tr>\n",
       "    <tr>\n",
       "      <th>75%</th>\n",
       "      <td>0.010000</td>\n",
       "      <td>10.000000</td>\n",
       "      <td>70.000000</td>\n",
       "      <td>5.000000</td>\n",
       "      <td>1.615805</td>\n",
       "      <td>55.939500</td>\n",
       "      <td>257.419000</td>\n",
       "      <td>7.114750</td>\n",
       "      <td>8.000000</td>\n",
       "    </tr>\n",
       "    <tr>\n",
       "      <th>max</th>\n",
       "      <td>100.000000</td>\n",
       "      <td>100.000000</td>\n",
       "      <td>100.000000</td>\n",
       "      <td>100.000000</td>\n",
       "      <td>18.687240</td>\n",
       "      <td>100.000000</td>\n",
       "      <td>12300.000000</td>\n",
       "      <td>175.477000</td>\n",
       "      <td>943.000000</td>\n",
       "    </tr>\n",
       "  </tbody>\n",
       "</table>\n",
       "</div>"
      ],
      "text/plain": [
       "       주력제품 해외 시장점유율(퍼센트)  주력제품 국내 시장점유율(퍼센트)  매출구조비율(중소기업)  매출구조비율(글로벌)  \\\n",
       "count         9628.000000         9628.000000   9628.000000  9628.000000   \n",
       "mean             0.828994            9.416934     38.503973     9.376821   \n",
       "std              4.657462           14.361033     37.881225    20.767284   \n",
       "min              0.000000            0.000000      0.000000     0.000000   \n",
       "25%              0.000000            0.500000      0.000000     0.000000   \n",
       "50%              0.000000            5.000000     30.000000     0.000000   \n",
       "75%              0.010000           10.000000     70.000000     5.000000   \n",
       "max            100.000000          100.000000    100.000000   100.000000   \n",
       "\n",
       "            총자산회전율       자기자본비율          부채비율         순이익률    등록보유(특허권)  \n",
       "count  9628.000000  9628.000000   9628.000000  9628.000000  9628.000000  \n",
       "mean      1.345703    39.329786    255.338437   -10.655346     7.316369  \n",
       "std       1.310647    32.562173    935.430992   128.332992    18.460591  \n",
       "min       0.000000  -294.118000  -6045.455000 -1739.260000     0.000000  \n",
       "25%       0.699793    26.390500     70.090250     0.960750     1.000000  \n",
       "50%       1.067970    38.823000    147.285000     3.294000     3.000000  \n",
       "75%       1.615805    55.939500    257.419000     7.114750     8.000000  \n",
       "max      18.687240   100.000000  12300.000000   175.477000   943.000000  "
      ]
     },
     "execution_count": 24,
     "metadata": {},
     "output_type": "execute_result"
    }
   ],
   "source": [
    "df_0.iloc[:,:-1].describe()"
   ]
  },
  {
   "cell_type": "code",
   "execution_count": 25,
   "metadata": {},
   "outputs": [
    {
     "data": {
      "text/html": [
       "<div>\n",
       "<style scoped>\n",
       "    .dataframe tbody tr th:only-of-type {\n",
       "        vertical-align: middle;\n",
       "    }\n",
       "\n",
       "    .dataframe tbody tr th {\n",
       "        vertical-align: top;\n",
       "    }\n",
       "\n",
       "    .dataframe thead th {\n",
       "        text-align: right;\n",
       "    }\n",
       "</style>\n",
       "<table border=\"1\" class=\"dataframe\">\n",
       "  <thead>\n",
       "    <tr style=\"text-align: right;\">\n",
       "      <th></th>\n",
       "      <th>주력제품 해외 시장점유율(퍼센트)</th>\n",
       "      <th>주력제품 국내 시장점유율(퍼센트)</th>\n",
       "      <th>매출구조비율(중소기업)</th>\n",
       "      <th>매출구조비율(글로벌)</th>\n",
       "      <th>총자산회전율</th>\n",
       "      <th>자기자본비율</th>\n",
       "      <th>부채비율</th>\n",
       "      <th>순이익률</th>\n",
       "      <th>등록보유(특허권)</th>\n",
       "    </tr>\n",
       "  </thead>\n",
       "  <tbody>\n",
       "    <tr>\n",
       "      <th>count</th>\n",
       "      <td>1158.000000</td>\n",
       "      <td>1158.000000</td>\n",
       "      <td>1158.000000</td>\n",
       "      <td>1158.000000</td>\n",
       "      <td>1158.000000</td>\n",
       "      <td>1158.000000</td>\n",
       "      <td>1158.000000</td>\n",
       "      <td>1158.000000</td>\n",
       "      <td>1158.000000</td>\n",
       "    </tr>\n",
       "    <tr>\n",
       "      <th>mean</th>\n",
       "      <td>2.745596</td>\n",
       "      <td>14.100855</td>\n",
       "      <td>32.409344</td>\n",
       "      <td>17.575604</td>\n",
       "      <td>0.826856</td>\n",
       "      <td>57.539504</td>\n",
       "      <td>116.999756</td>\n",
       "      <td>-26.380313</td>\n",
       "      <td>17.735751</td>\n",
       "    </tr>\n",
       "    <tr>\n",
       "      <th>std</th>\n",
       "      <td>9.001737</td>\n",
       "      <td>17.447332</td>\n",
       "      <td>34.638759</td>\n",
       "      <td>26.910910</td>\n",
       "      <td>0.618286</td>\n",
       "      <td>27.425139</td>\n",
       "      <td>432.887921</td>\n",
       "      <td>163.852619</td>\n",
       "      <td>28.918135</td>\n",
       "    </tr>\n",
       "    <tr>\n",
       "      <th>min</th>\n",
       "      <td>0.000000</td>\n",
       "      <td>0.000000</td>\n",
       "      <td>0.000000</td>\n",
       "      <td>0.000000</td>\n",
       "      <td>0.002290</td>\n",
       "      <td>-294.118000</td>\n",
       "      <td>-6045.455000</td>\n",
       "      <td>-1739.260000</td>\n",
       "      <td>0.000000</td>\n",
       "    </tr>\n",
       "    <tr>\n",
       "      <th>25%</th>\n",
       "      <td>0.000000</td>\n",
       "      <td>3.000000</td>\n",
       "      <td>0.000000</td>\n",
       "      <td>0.000000</td>\n",
       "      <td>0.445407</td>\n",
       "      <td>42.445000</td>\n",
       "      <td>27.492750</td>\n",
       "      <td>-7.232250</td>\n",
       "      <td>2.000000</td>\n",
       "    </tr>\n",
       "    <tr>\n",
       "      <th>50%</th>\n",
       "      <td>0.010000</td>\n",
       "      <td>8.000000</td>\n",
       "      <td>20.000000</td>\n",
       "      <td>0.350000</td>\n",
       "      <td>0.673530</td>\n",
       "      <td>59.389000</td>\n",
       "      <td>64.097500</td>\n",
       "      <td>2.967000</td>\n",
       "      <td>8.000000</td>\n",
       "    </tr>\n",
       "    <tr>\n",
       "      <th>75%</th>\n",
       "      <td>1.000000</td>\n",
       "      <td>20.000000</td>\n",
       "      <td>60.000000</td>\n",
       "      <td>25.000000</td>\n",
       "      <td>1.046418</td>\n",
       "      <td>77.270750</td>\n",
       "      <td>130.376250</td>\n",
       "      <td>10.114500</td>\n",
       "      <td>21.000000</td>\n",
       "    </tr>\n",
       "    <tr>\n",
       "      <th>max</th>\n",
       "      <td>98.000000</td>\n",
       "      <td>100.000000</td>\n",
       "      <td>100.000000</td>\n",
       "      <td>100.000000</td>\n",
       "      <td>5.113760</td>\n",
       "      <td>98.929000</td>\n",
       "      <td>8096.269000</td>\n",
       "      <td>175.477000</td>\n",
       "      <td>413.000000</td>\n",
       "    </tr>\n",
       "  </tbody>\n",
       "</table>\n",
       "</div>"
      ],
      "text/plain": [
       "       주력제품 해외 시장점유율(퍼센트)  주력제품 국내 시장점유율(퍼센트)  매출구조비율(중소기업)  매출구조비율(글로벌)  \\\n",
       "count         1158.000000         1158.000000   1158.000000  1158.000000   \n",
       "mean             2.745596           14.100855     32.409344    17.575604   \n",
       "std              9.001737           17.447332     34.638759    26.910910   \n",
       "min              0.000000            0.000000      0.000000     0.000000   \n",
       "25%              0.000000            3.000000      0.000000     0.000000   \n",
       "50%              0.010000            8.000000     20.000000     0.350000   \n",
       "75%              1.000000           20.000000     60.000000    25.000000   \n",
       "max             98.000000          100.000000    100.000000   100.000000   \n",
       "\n",
       "            총자산회전율       자기자본비율         부채비율         순이익률    등록보유(특허권)  \n",
       "count  1158.000000  1158.000000  1158.000000  1158.000000  1158.000000  \n",
       "mean      0.826856    57.539504   116.999756   -26.380313    17.735751  \n",
       "std       0.618286    27.425139   432.887921   163.852619    28.918135  \n",
       "min       0.002290  -294.118000 -6045.455000 -1739.260000     0.000000  \n",
       "25%       0.445407    42.445000    27.492750    -7.232250     2.000000  \n",
       "50%       0.673530    59.389000    64.097500     2.967000     8.000000  \n",
       "75%       1.046418    77.270750   130.376250    10.114500    21.000000  \n",
       "max       5.113760    98.929000  8096.269000   175.477000   413.000000  "
      ]
     },
     "execution_count": 25,
     "metadata": {},
     "output_type": "execute_result"
    }
   ],
   "source": [
    "df_1.iloc[:,:-1].describe()"
   ]
  },
  {
   "attachments": {},
   "cell_type": "markdown",
   "metadata": {},
   "source": [
    "### 범주형 변수"
   ]
  },
  {
   "attachments": {},
   "cell_type": "markdown",
   "metadata": {},
   "source": [
    "* 범주형 변수\n",
    "    - '창업 당시 창업자 최종학력', '창업 당시 목표시장', '기업성장단계', '해외수출 및 진출과정 애로사항'"
   ]
  },
  {
   "cell_type": "code",
   "execution_count": 26,
   "metadata": {},
   "outputs": [],
   "source": [
    "import pandas as pd\n",
    "\n",
    "def calculate_value_counts_ratio(df, column):\n",
    "    x = df[df[\"Exit\"] == 1]\n",
    "    y = df[df[\"Exit\"] == 0]\n",
    "    value_counts_x = x[column].value_counts()\n",
    "    value_counts_y = y[column].value_counts()\n",
    "    value_counts_ratio_x = value_counts_x / value_counts_x.sum() * 100\n",
    "    value_counts_ratio_y = value_counts_y / value_counts_y.sum() * 100\n",
    "    return value_counts_ratio_x, value_counts_ratio_y"
   ]
  },
  {
   "cell_type": "code",
   "execution_count": 27,
   "metadata": {},
   "outputs": [
    {
     "name": "stdout",
     "output_type": "stream",
     "text": [
      "(3    52.504318\n",
      "2    19.775475\n",
      "1    19.775475\n",
      "5     4.922280\n",
      "4     3.022453\n",
      "Name: 창업 당시 창업자 최종학력, dtype: float64, 3    55.255505\n",
      "2    17.604902\n",
      "5    12.557125\n",
      "1     8.184462\n",
      "4     6.398006\n",
      "Name: 창업 당시 창업자 최종학력, dtype: float64)\n"
     ]
    }
   ],
   "source": [
    "# 함수 사용 예시\n",
    "column_name = '창업 당시 창업자 최종학력'\n",
    "result = calculate_value_counts_ratio(df, column_name)\n",
    "\n",
    "# 결과 출력\n",
    "print(result)"
   ]
  },
  {
   "cell_type": "code",
   "execution_count": 28,
   "metadata": {},
   "outputs": [
    {
     "name": "stdout",
     "output_type": "stream",
     "text": [
      "(3    64.507772\n",
      "1    33.851468\n",
      "2     1.640760\n",
      "Name: 창업 당시 목표시장, dtype: float64, 3    49.968841\n",
      "1    49.169090\n",
      "2     0.862069\n",
      "Name: 창업 당시 목표시장, dtype: float64)\n"
     ]
    }
   ],
   "source": [
    "# 함수 사용 예시\n",
    "column_name = '창업 당시 목표시장'\n",
    "result = calculate_value_counts_ratio(df, column_name)\n",
    "\n",
    "# 결과 출력\n",
    "print(result)"
   ]
  },
  {
   "cell_type": "code",
   "execution_count": 29,
   "metadata": {},
   "outputs": [
    {
     "name": "stdout",
     "output_type": "stream",
     "text": [
      "(4    55.267703\n",
      "3    37.737478\n",
      "2     5.613126\n",
      "5     0.949914\n",
      "1     0.431779\n",
      "Name: 기업성장단계, dtype: float64, 3    41.514333\n",
      "4    37.536352\n",
      "2    18.394267\n",
      "1     1.402160\n",
      "5     1.152887\n",
      "Name: 기업성장단계, dtype: float64)\n"
     ]
    }
   ],
   "source": [
    "# 함수 사용 예시\n",
    "column_name = '기업성장단계'\n",
    "result = calculate_value_counts_ratio(df, column_name)\n",
    "\n",
    "# 결과 출력\n",
    "print(result)"
   ]
  },
  {
   "cell_type": "code",
   "execution_count": 30,
   "metadata": {},
   "outputs": [
    {
     "name": "stdout",
     "output_type": "stream",
     "text": [
      "(3    23.575130\n",
      "2    18.134715\n",
      "4    16.753022\n",
      "5    12.953368\n",
      "7    11.830743\n",
      "1     9.153713\n",
      "6     3.886010\n",
      "8     3.713299\n",
      "Name: 해외수출 및 진출과정 애로사항, dtype: float64, 3    26.412547\n",
      "2    20.326132\n",
      "4    16.140424\n",
      "1    13.637308\n",
      "5     9.430827\n",
      "7     7.187370\n",
      "8     4.476527\n",
      "6     2.388866\n",
      "Name: 해외수출 및 진출과정 애로사항, dtype: float64)\n"
     ]
    }
   ],
   "source": [
    "# 함수 사용 예시\n",
    "column_name = '해외수출 및 진출과정 애로사항'\n",
    "result = calculate_value_counts_ratio(df, column_name)\n",
    "\n",
    "# 결과 출력\n",
    "print(result)"
   ]
  },
  {
   "attachments": {},
   "cell_type": "markdown",
   "metadata": {},
   "source": [
    "---"
   ]
  },
  {
   "cell_type": "code",
   "execution_count": 32,
   "metadata": {},
   "outputs": [],
   "source": [
    "x = df[df[\"Exit\"] == 1]\n",
    "y = df[df[\"Exit\"] == 0]"
   ]
  },
  {
   "cell_type": "code",
   "execution_count": 35,
   "metadata": {},
   "outputs": [
    {
     "name": "stdout",
     "output_type": "stream",
     "text": [
      "3    52.504318\n",
      "2    19.775475\n",
      "1    19.775475\n",
      "5     4.922280\n",
      "4     3.022453\n",
      "Name: 창업 당시 창업자 최종학력, dtype: float64\n",
      "3    55.255505\n",
      "2    17.604902\n",
      "5    12.557125\n",
      "1     8.184462\n",
      "4     6.398006\n",
      "Name: 창업 당시 창업자 최종학력, dtype: float64\n"
     ]
    }
   ],
   "source": [
    "label_counts_x = x['창업 당시 창업자 최종학력'].value_counts()\n",
    "label_ratios_x = label_counts_x / label_counts_x.sum()\n",
    "print(label_ratios_x*100)\n",
    "\n",
    "label_counts_y = y['창업 당시 창업자 최종학력'].value_counts()\n",
    "label_ratios_y = label_counts_y / label_counts_y.sum()\n",
    "print(label_ratios_y*100)"
   ]
  },
  {
   "cell_type": "code",
   "execution_count": 36,
   "metadata": {},
   "outputs": [
    {
     "name": "stdout",
     "output_type": "stream",
     "text": [
      "3    64.507772\n",
      "1    33.851468\n",
      "2     1.640760\n",
      "Name: 창업 당시 목표시장, dtype: float64\n",
      "3    49.968841\n",
      "1    49.169090\n",
      "2     0.862069\n",
      "Name: 창업 당시 목표시장, dtype: float64\n"
     ]
    }
   ],
   "source": [
    "label_counts_x = x['창업 당시 목표시장'].value_counts()\n",
    "label_ratios_x = label_counts_x / label_counts_x.sum()\n",
    "print(label_ratios_x*100)\n",
    "\n",
    "label_counts_y = y['창업 당시 목표시장'].value_counts()\n",
    "label_ratios_y = label_counts_y / label_counts_y.sum()\n",
    "print(label_ratios_y*100)"
   ]
  },
  {
   "cell_type": "code",
   "execution_count": 37,
   "metadata": {},
   "outputs": [
    {
     "name": "stdout",
     "output_type": "stream",
     "text": [
      "4    55.267703\n",
      "3    37.737478\n",
      "2     5.613126\n",
      "5     0.949914\n",
      "1     0.431779\n",
      "Name: 기업성장단계, dtype: float64\n",
      "3    41.514333\n",
      "4    37.536352\n",
      "2    18.394267\n",
      "1     1.402160\n",
      "5     1.152887\n",
      "Name: 기업성장단계, dtype: float64\n"
     ]
    }
   ],
   "source": [
    "label_counts_x = x['기업성장단계'].value_counts()\n",
    "label_ratios_x = label_counts_x / label_counts_x.sum()\n",
    "print(label_ratios_x*100)\n",
    "\n",
    "label_counts_y = y['기업성장단계'].value_counts()\n",
    "label_ratios_y = label_counts_y / label_counts_y.sum()\n",
    "print(label_ratios_y*100)"
   ]
  },
  {
   "cell_type": "code",
   "execution_count": 38,
   "metadata": {},
   "outputs": [
    {
     "name": "stdout",
     "output_type": "stream",
     "text": [
      "3    23.575130\n",
      "2    18.134715\n",
      "4    16.753022\n",
      "5    12.953368\n",
      "7    11.830743\n",
      "1     9.153713\n",
      "6     3.886010\n",
      "8     3.713299\n",
      "Name: 해외수출 및 진출과정 애로사항, dtype: float64\n",
      "3    26.412547\n",
      "2    20.326132\n",
      "4    16.140424\n",
      "1    13.637308\n",
      "5     9.430827\n",
      "7     7.187370\n",
      "8     4.476527\n",
      "6     2.388866\n",
      "Name: 해외수출 및 진출과정 애로사항, dtype: float64\n"
     ]
    }
   ],
   "source": [
    "label_counts_x = x['해외수출 및 진출과정 애로사항'].value_counts()\n",
    "label_ratios_x = label_counts_x / label_counts_x.sum()\n",
    "print(label_ratios_x*100)\n",
    "\n",
    "label_counts_y = y['해외수출 및 진출과정 애로사항'].value_counts()\n",
    "label_ratios_y = label_counts_y / label_counts_y.sum()\n",
    "print(label_ratios_y*100)"
   ]
  },
  {
   "cell_type": "code",
   "execution_count": null,
   "metadata": {},
   "outputs": [],
   "source": []
  }
 ],
 "metadata": {
  "kernelspec": {
   "display_name": "Python 3",
   "language": "python",
   "name": "python3"
  },
  "language_info": {
   "codemirror_mode": {
    "name": "ipython",
    "version": 3
   },
   "file_extension": ".py",
   "mimetype": "text/x-python",
   "name": "python",
   "nbconvert_exporter": "python",
   "pygments_lexer": "ipython3",
   "version": "3.10.9"
  },
  "orig_nbformat": 4
 },
 "nbformat": 4,
 "nbformat_minor": 2
}
